{
 "cells": [
  {
   "cell_type": "markdown",
   "metadata": {
    "collapsed": true
   },
   "source": [
    "# 01_EU_Export_Time_Series_Forecasting"
   ]
  },
  {
   "cell_type": "markdown",
   "metadata": {},
   "source": [
    "The goal of the assignment is to build a time series forecasting model with highest possible accuracy to predict the total export from the EU for the period of January-November 2019 (due to the availability of data for verification only for these 11 months at the moment). \n",
    "\n",
    "The training data for the period from January 2002 to December 2018 (all the available data), as well as the verification data for the period from January 2019 to November 2019, was extracted from Eurostat's \"EU trade since 1988 by CPA 2.1 (DS-1062396)\" database (https://ec.europa.eu/eurostat/web/international-trade-in-goods/data/database => https://bit.ly/2RS9JdK)"
   ]
  },
  {
   "cell_type": "markdown",
   "metadata": {},
   "source": [
    "## 0. Preliminary stage"
   ]
  },
  {
   "cell_type": "markdown",
   "metadata": {},
   "source": [
    "### 0.1 Activating the working directory:"
   ]
  },
  {
   "cell_type": "code",
   "execution_count": 1,
   "metadata": {},
   "outputs": [
    {
     "name": "stdout",
     "output_type": "stream",
     "text": [
      "D:\\SciKitDatasets\\Main\n"
     ]
    }
   ],
   "source": [
    "cd D:\\SciKitDatasets\\Main"
   ]
  },
  {
   "cell_type": "markdown",
   "metadata": {},
   "source": [
    "### 0.2 Importing the necessary libraries:"
   ]
  },
  {
   "cell_type": "code",
   "execution_count": 2,
   "metadata": {},
   "outputs": [],
   "source": [
    "import pandas as pd\n",
    "import numpy as np\n",
    "\n",
    "from math import sqrt\n",
    "\n",
    "import matplotlib.pyplot as plt\n",
    "%matplotlib inline\n",
    "\n",
    "from statsmodels.tsa.statespace.sarimax import SARIMAX\n",
    "from statsmodels.tsa.vector_ar.var_model import VAR             \n",
    "\n",
    "from fbprophet import Prophet\n",
    "\n",
    "import warnings\n",
    "import itertools\n",
    "warnings.filterwarnings(\"ignore\")"
   ]
  },
  {
   "cell_type": "code",
   "execution_count": 3,
   "metadata": {},
   "outputs": [
    {
     "data": {
      "application/javascript": [
       "IPython.OutputArea.prototype._should_scroll = function(lines) {\n",
       "    return false;\n",
       "}\n"
      ],
      "text/plain": [
       "<IPython.core.display.Javascript object>"
      ]
     },
     "metadata": {},
     "output_type": "display_data"
    }
   ],
   "source": [
    "%%javascript\n",
    "IPython.OutputArea.prototype._should_scroll = function(lines) {\n",
    "    return false;\n",
    "}"
   ]
  },
  {
   "cell_type": "markdown",
   "metadata": {},
   "source": [
    "## 1. Building the models"
   ]
  },
  {
   "cell_type": "markdown",
   "metadata": {},
   "source": [
    "### 1.1 SARIMAX model with default train data and default parameters"
   ]
  },
  {
   "cell_type": "markdown",
   "metadata": {},
   "source": [
    "Info on SARIMAX http://www.statsmodels.org/dev/generated/statsmodels.tsa.statespace.sarimax.SARIMAX.html"
   ]
  },
  {
   "cell_type": "markdown",
   "metadata": {},
   "source": [
    "#### 1.1.1 Importing the data and dropping the unnecessary column"
   ]
  },
  {
   "cell_type": "code",
   "execution_count": 4,
   "metadata": {},
   "outputs": [
    {
     "data": {
      "text/html": [
       "<div>\n",
       "<style scoped>\n",
       "    .dataframe tbody tr th:only-of-type {\n",
       "        vertical-align: middle;\n",
       "    }\n",
       "\n",
       "    .dataframe tbody tr th {\n",
       "        vertical-align: top;\n",
       "    }\n",
       "\n",
       "    .dataframe thead th {\n",
       "        text-align: right;\n",
       "    }\n",
       "</style>\n",
       "<table border=\"1\" class=\"dataframe\">\n",
       "  <thead>\n",
       "    <tr style=\"text-align: right;\">\n",
       "      <th></th>\n",
       "      <th>Month</th>\n",
       "      <th>EUR</th>\n",
       "    </tr>\n",
       "  </thead>\n",
       "  <tbody>\n",
       "    <tr>\n",
       "      <th>0</th>\n",
       "      <td>2002-01-01</td>\n",
       "      <td>66399826911</td>\n",
       "    </tr>\n",
       "    <tr>\n",
       "      <th>1</th>\n",
       "      <td>2002-02-01</td>\n",
       "      <td>68453193661</td>\n",
       "    </tr>\n",
       "    <tr>\n",
       "      <th>2</th>\n",
       "      <td>2002-03-01</td>\n",
       "      <td>75565444323</td>\n",
       "    </tr>\n",
       "    <tr>\n",
       "      <th>3</th>\n",
       "      <td>2002-04-01</td>\n",
       "      <td>75171579182</td>\n",
       "    </tr>\n",
       "    <tr>\n",
       "      <th>4</th>\n",
       "      <td>2002-05-01</td>\n",
       "      <td>77314780951</td>\n",
       "    </tr>\n",
       "  </tbody>\n",
       "</table>\n",
       "</div>"
      ],
      "text/plain": [
       "       Month          EUR\n",
       "0 2002-01-01  66399826911\n",
       "1 2002-02-01  68453193661\n",
       "2 2002-03-01  75565444323\n",
       "3 2002-04-01  75171579182\n",
       "4 2002-05-01  77314780951"
      ]
     },
     "execution_count": 4,
     "metadata": {},
     "output_type": "execute_result"
    }
   ],
   "source": [
    "df_full = pd.read_csv('D:\\\\SciKitDatasets\\\\Main\\\\eu_export.csv')\n",
    "\n",
    "df_full['Month'] = pd.to_datetime(df_full['Month'], dayfirst=True)\n",
    "\n",
    "df_train = df_full.drop(['KG'], axis=1)\n",
    "\n",
    "df_train.head(5)"
   ]
  },
  {
   "cell_type": "markdown",
   "metadata": {},
   "source": [
    "#### 1.1.2 Transforming the dataset into the format appropriate for SARIMAX"
   ]
  },
  {
   "cell_type": "code",
   "execution_count": 5,
   "metadata": {},
   "outputs": [
    {
     "data": {
      "text/html": [
       "<div>\n",
       "<style scoped>\n",
       "    .dataframe tbody tr th:only-of-type {\n",
       "        vertical-align: middle;\n",
       "    }\n",
       "\n",
       "    .dataframe tbody tr th {\n",
       "        vertical-align: top;\n",
       "    }\n",
       "\n",
       "    .dataframe thead th {\n",
       "        text-align: right;\n",
       "    }\n",
       "</style>\n",
       "<table border=\"1\" class=\"dataframe\">\n",
       "  <thead>\n",
       "    <tr style=\"text-align: right;\">\n",
       "      <th></th>\n",
       "      <th>EUR</th>\n",
       "    </tr>\n",
       "    <tr>\n",
       "      <th>Month</th>\n",
       "      <th></th>\n",
       "    </tr>\n",
       "  </thead>\n",
       "  <tbody>\n",
       "    <tr>\n",
       "      <th>2002-01-01</th>\n",
       "      <td>66399826911</td>\n",
       "    </tr>\n",
       "    <tr>\n",
       "      <th>2002-02-01</th>\n",
       "      <td>68453193661</td>\n",
       "    </tr>\n",
       "    <tr>\n",
       "      <th>2002-03-01</th>\n",
       "      <td>75565444323</td>\n",
       "    </tr>\n",
       "    <tr>\n",
       "      <th>2002-04-01</th>\n",
       "      <td>75171579182</td>\n",
       "    </tr>\n",
       "    <tr>\n",
       "      <th>2002-05-01</th>\n",
       "      <td>77314780951</td>\n",
       "    </tr>\n",
       "  </tbody>\n",
       "</table>\n",
       "</div>"
      ],
      "text/plain": [
       "                    EUR\n",
       "Month                  \n",
       "2002-01-01  66399826911\n",
       "2002-02-01  68453193661\n",
       "2002-03-01  75565444323\n",
       "2002-04-01  75171579182\n",
       "2002-05-01  77314780951"
      ]
     },
     "execution_count": 5,
     "metadata": {},
     "output_type": "execute_result"
    }
   ],
   "source": [
    "df_train = df_train.set_index(\"Month\")\n",
    "\n",
    "df_train.head(5)"
   ]
  },
  {
   "cell_type": "markdown",
   "metadata": {},
   "source": [
    "#### 1.1.3 Preparing train and test data, and checking the test data"
   ]
  },
  {
   "cell_type": "code",
   "execution_count": 6,
   "metadata": {},
   "outputs": [
    {
     "data": {
      "text/html": [
       "<div>\n",
       "<style scoped>\n",
       "    .dataframe tbody tr th:only-of-type {\n",
       "        vertical-align: middle;\n",
       "    }\n",
       "\n",
       "    .dataframe tbody tr th {\n",
       "        vertical-align: top;\n",
       "    }\n",
       "\n",
       "    .dataframe thead th {\n",
       "        text-align: right;\n",
       "    }\n",
       "</style>\n",
       "<table border=\"1\" class=\"dataframe\">\n",
       "  <thead>\n",
       "    <tr style=\"text-align: right;\">\n",
       "      <th></th>\n",
       "      <th>EUR</th>\n",
       "    </tr>\n",
       "    <tr>\n",
       "      <th>Month</th>\n",
       "      <th></th>\n",
       "    </tr>\n",
       "  </thead>\n",
       "  <tbody>\n",
       "    <tr>\n",
       "      <th>2019-01-01</th>\n",
       "      <td>153566052799</td>\n",
       "    </tr>\n",
       "    <tr>\n",
       "      <th>2019-02-01</th>\n",
       "      <td>156693063016</td>\n",
       "    </tr>\n",
       "    <tr>\n",
       "      <th>2019-03-01</th>\n",
       "      <td>173450979799</td>\n",
       "    </tr>\n",
       "    <tr>\n",
       "      <th>2019-04-01</th>\n",
       "      <td>171536186561</td>\n",
       "    </tr>\n",
       "    <tr>\n",
       "      <th>2019-05-01</th>\n",
       "      <td>179073500735</td>\n",
       "    </tr>\n",
       "    <tr>\n",
       "      <th>2019-06-01</th>\n",
       "      <td>164726052862</td>\n",
       "    </tr>\n",
       "    <tr>\n",
       "      <th>2019-07-01</th>\n",
       "      <td>181446454044</td>\n",
       "    </tr>\n",
       "    <tr>\n",
       "      <th>2019-08-01</th>\n",
       "      <td>154170589012</td>\n",
       "    </tr>\n",
       "    <tr>\n",
       "      <th>2019-09-01</th>\n",
       "      <td>168576407504</td>\n",
       "    </tr>\n",
       "    <tr>\n",
       "      <th>2019-10-01</th>\n",
       "      <td>190056872447</td>\n",
       "    </tr>\n",
       "    <tr>\n",
       "      <th>2019-11-01</th>\n",
       "      <td>172748575034</td>\n",
       "    </tr>\n",
       "  </tbody>\n",
       "</table>\n",
       "</div>"
      ],
      "text/plain": [
       "                     EUR\n",
       "Month                   \n",
       "2019-01-01  153566052799\n",
       "2019-02-01  156693063016\n",
       "2019-03-01  173450979799\n",
       "2019-04-01  171536186561\n",
       "2019-05-01  179073500735\n",
       "2019-06-01  164726052862\n",
       "2019-07-01  181446454044\n",
       "2019-08-01  154170589012\n",
       "2019-09-01  168576407504\n",
       "2019-10-01  190056872447\n",
       "2019-11-01  172748575034"
      ]
     },
     "execution_count": 6,
     "metadata": {},
     "output_type": "execute_result"
    }
   ],
   "source": [
    "train_data = df_train[:len(df_train)-11]\n",
    "test_data = df_train[len(df_train)-11:]\n",
    "\n",
    "test_data"
   ]
  },
  {
   "cell_type": "markdown",
   "metadata": {},
   "source": [
    "#### 1.1.4 Training the SARIMAX model with default parameters"
   ]
  },
  {
   "cell_type": "code",
   "execution_count": 7,
   "metadata": {
    "scrolled": true
   },
   "outputs": [
    {
     "data": {
      "text/html": [
       "<table class=\"simpletable\">\n",
       "<caption>Statespace Model Results</caption>\n",
       "<tr>\n",
       "  <th>Dep. Variable:</th>          <td>EUR</td>       <th>  No. Observations:  </th>    <td>204</td>   \n",
       "</tr>\n",
       "<tr>\n",
       "  <th>Model:</th>           <td>SARIMAX(1, 0, 0)</td> <th>  Log Likelihood     </th> <td>-5008.527</td>\n",
       "</tr>\n",
       "<tr>\n",
       "  <th>Date:</th>            <td>Sun, 02 Feb 2020</td> <th>  AIC                </th> <td>10021.054</td>\n",
       "</tr>\n",
       "<tr>\n",
       "  <th>Time:</th>                <td>22:28:38</td>     <th>  BIC                </th> <td>10027.690</td>\n",
       "</tr>\n",
       "<tr>\n",
       "  <th>Sample:</th>             <td>01-01-2002</td>    <th>  HQIC               </th> <td>10023.738</td>\n",
       "</tr>\n",
       "<tr>\n",
       "  <th></th>                   <td>- 12-01-2018</td>   <th>                     </th>     <td> </td>    \n",
       "</tr>\n",
       "<tr>\n",
       "  <th>Covariance Type:</th>        <td>opg</td>       <th>                     </th>     <td> </td>    \n",
       "</tr>\n",
       "</table>\n",
       "<table class=\"simpletable\">\n",
       "<tr>\n",
       "     <td></td>       <th>coef</th>     <th>std err</th>      <th>z</th>      <th>P>|z|</th>  <th>[0.025</th>    <th>0.975]</th>  \n",
       "</tr>\n",
       "<tr>\n",
       "  <th>ar.L1</th>  <td>    0.9958</td> <td>    0.005</td> <td>  190.622</td> <td> 0.000</td> <td>    0.986</td> <td>    1.006</td>\n",
       "</tr>\n",
       "<tr>\n",
       "  <th>sigma2</th> <td> 1.212e+20</td> <td> 3.68e-25</td> <td>  3.3e+44</td> <td> 0.000</td> <td> 1.21e+20</td> <td> 1.21e+20</td>\n",
       "</tr>\n",
       "</table>\n",
       "<table class=\"simpletable\">\n",
       "<tr>\n",
       "  <th>Ljung-Box (Q):</th>          <td>360.46</td> <th>  Jarque-Bera (JB):  </th> <td>7.00</td> \n",
       "</tr>\n",
       "<tr>\n",
       "  <th>Prob(Q):</th>                 <td>0.00</td>  <th>  Prob(JB):          </th> <td>0.03</td> \n",
       "</tr>\n",
       "<tr>\n",
       "  <th>Heteroskedasticity (H):</th>  <td>3.74</td>  <th>  Skew:              </th> <td>-0.39</td>\n",
       "</tr>\n",
       "<tr>\n",
       "  <th>Prob(H) (two-sided):</th>     <td>0.00</td>  <th>  Kurtosis:          </th> <td>3.45</td> \n",
       "</tr>\n",
       "</table><br/><br/>Warnings:<br/>[1] Covariance matrix calculated using the outer product of gradients (complex-step).<br/>[2] Covariance matrix is singular or near-singular, with condition number    inf. Standard errors may be unstable."
      ],
      "text/plain": [
       "<class 'statsmodels.iolib.summary.Summary'>\n",
       "\"\"\"\n",
       "                           Statespace Model Results                           \n",
       "==============================================================================\n",
       "Dep. Variable:                    EUR   No. Observations:                  204\n",
       "Model:               SARIMAX(1, 0, 0)   Log Likelihood               -5008.527\n",
       "Date:                Sun, 02 Feb 2020   AIC                          10021.054\n",
       "Time:                        22:28:38   BIC                          10027.690\n",
       "Sample:                    01-01-2002   HQIC                         10023.738\n",
       "                         - 12-01-2018                                         \n",
       "Covariance Type:                  opg                                         \n",
       "==============================================================================\n",
       "                 coef    std err          z      P>|z|      [0.025      0.975]\n",
       "------------------------------------------------------------------------------\n",
       "ar.L1          0.9958      0.005    190.622      0.000       0.986       1.006\n",
       "sigma2      1.212e+20   3.68e-25    3.3e+44      0.000    1.21e+20    1.21e+20\n",
       "===================================================================================\n",
       "Ljung-Box (Q):                      360.46   Jarque-Bera (JB):                 7.00\n",
       "Prob(Q):                              0.00   Prob(JB):                         0.03\n",
       "Heteroskedasticity (H):               3.74   Skew:                            -0.39\n",
       "Prob(H) (two-sided):                  0.00   Kurtosis:                         3.45\n",
       "===================================================================================\n",
       "\n",
       "Warnings:\n",
       "[1] Covariance matrix calculated using the outer product of gradients (complex-step).\n",
       "[2] Covariance matrix is singular or near-singular, with condition number    inf. Standard errors may be unstable.\n",
       "\"\"\""
      ]
     },
     "execution_count": 7,
     "metadata": {},
     "output_type": "execute_result"
    }
   ],
   "source": [
    "sarimax_model = SARIMAX(train_data['EUR'])\n",
    "sarimax_result = sarimax_model.fit()\n",
    "sarimax_result.summary()"
   ]
  },
  {
   "cell_type": "markdown",
   "metadata": {},
   "source": [
    "#### 1.1.5 Making the prediction"
   ]
  },
  {
   "cell_type": "code",
   "execution_count": 8,
   "metadata": {},
   "outputs": [
    {
     "data": {
      "text/plain": [
       "2019-01-01    1.533654e+11\n",
       "2019-02-01    1.527245e+11\n",
       "2019-03-01    1.520863e+11\n",
       "2019-04-01    1.514507e+11\n",
       "2019-05-01    1.508178e+11\n",
       "2019-06-01    1.501875e+11\n",
       "2019-07-01    1.495599e+11\n",
       "2019-08-01    1.489349e+11\n",
       "2019-09-01    1.483125e+11\n",
       "2019-10-01    1.476927e+11\n",
       "2019-11-01    1.470755e+11\n",
       "Freq: MS, Name: SARIMAX Predictions, dtype: float64"
      ]
     },
     "execution_count": 8,
     "metadata": {},
     "output_type": "execute_result"
    }
   ],
   "source": [
    "sarimax_pred = sarimax_result.predict(start = len(train_data), end = len(df_train)-1, \n",
    "                                  typ=\"levels\").rename(\"SARIMAX Predictions\")\n",
    "sarimax_pred"
   ]
  },
  {
   "cell_type": "markdown",
   "metadata": {},
   "source": [
    "#### 1.1.6 Checking the accuracy of prediction "
   ]
  },
  {
   "cell_type": "code",
   "execution_count": 9,
   "metadata": {},
   "outputs": [
    {
     "data": {
      "text/html": [
       "<div>\n",
       "<style scoped>\n",
       "    .dataframe tbody tr th:only-of-type {\n",
       "        vertical-align: middle;\n",
       "    }\n",
       "\n",
       "    .dataframe tbody tr th {\n",
       "        vertical-align: top;\n",
       "    }\n",
       "\n",
       "    .dataframe thead th {\n",
       "        text-align: right;\n",
       "    }\n",
       "</style>\n",
       "<table border=\"1\" class=\"dataframe\">\n",
       "  <thead>\n",
       "    <tr style=\"text-align: right;\">\n",
       "      <th></th>\n",
       "      <th>EUR_Pred</th>\n",
       "      <th>EUR_Real</th>\n",
       "    </tr>\n",
       "    <tr>\n",
       "      <th>Month</th>\n",
       "      <th></th>\n",
       "      <th></th>\n",
       "    </tr>\n",
       "  </thead>\n",
       "  <tbody>\n",
       "    <tr>\n",
       "      <th>2019-01-01</th>\n",
       "      <td>153365405997</td>\n",
       "      <td>153566052799</td>\n",
       "    </tr>\n",
       "    <tr>\n",
       "      <th>2019-02-01</th>\n",
       "      <td>152724493239</td>\n",
       "      <td>156693063016</td>\n",
       "    </tr>\n",
       "    <tr>\n",
       "      <th>2019-03-01</th>\n",
       "      <td>152086258849</td>\n",
       "      <td>173450979799</td>\n",
       "    </tr>\n",
       "    <tr>\n",
       "      <th>2019-04-01</th>\n",
       "      <td>151450691636</td>\n",
       "      <td>171536186561</td>\n",
       "    </tr>\n",
       "    <tr>\n",
       "      <th>2019-05-01</th>\n",
       "      <td>150817780453</td>\n",
       "      <td>179073500735</td>\n",
       "    </tr>\n",
       "    <tr>\n",
       "      <th>2019-06-01</th>\n",
       "      <td>150187514200</td>\n",
       "      <td>164726052862</td>\n",
       "    </tr>\n",
       "    <tr>\n",
       "      <th>2019-07-01</th>\n",
       "      <td>149559881825</td>\n",
       "      <td>181446454044</td>\n",
       "    </tr>\n",
       "    <tr>\n",
       "      <th>2019-08-01</th>\n",
       "      <td>148934872321</td>\n",
       "      <td>154170589012</td>\n",
       "    </tr>\n",
       "    <tr>\n",
       "      <th>2019-09-01</th>\n",
       "      <td>148312474726</td>\n",
       "      <td>168576407504</td>\n",
       "    </tr>\n",
       "    <tr>\n",
       "      <th>2019-10-01</th>\n",
       "      <td>147692678125</td>\n",
       "      <td>190056872447</td>\n",
       "    </tr>\n",
       "    <tr>\n",
       "      <th>2019-11-01</th>\n",
       "      <td>147075471649</td>\n",
       "      <td>172748575034</td>\n",
       "    </tr>\n",
       "  </tbody>\n",
       "</table>\n",
       "</div>"
      ],
      "text/plain": [
       "               EUR_Pred      EUR_Real\n",
       "Month                                \n",
       "2019-01-01 153365405997  153566052799\n",
       "2019-02-01 152724493239  156693063016\n",
       "2019-03-01 152086258849  173450979799\n",
       "2019-04-01 151450691636  171536186561\n",
       "2019-05-01 150817780453  179073500735\n",
       "2019-06-01 150187514200  164726052862\n",
       "2019-07-01 149559881825  181446454044\n",
       "2019-08-01 148934872321  154170589012\n",
       "2019-09-01 148312474726  168576407504\n",
       "2019-10-01 147692678125  190056872447\n",
       "2019-11-01 147075471649  172748575034"
      ]
     },
     "execution_count": 9,
     "metadata": {},
     "output_type": "execute_result"
    }
   ],
   "source": [
    "sarimax_pred_df = pd.DataFrame({'Month':sarimax_pred.index, 'EUR_Pred':sarimax_pred.values})\n",
    "\n",
    "pd.set_option('display.float_format', lambda x: '%.0f' % x)\n",
    "\n",
    "df_real = pd.read_csv('D:\\\\SciKitDatasets\\\\Main\\\\eu_export_check.csv')\n",
    "\n",
    "sarimax_pred_df['EUR_Real'] = df_real['EUR']\n",
    "\n",
    "sarimax_pred_df = sarimax_pred_df.set_index(\"Month\")\n",
    "\n",
    "sarimax_pred_df"
   ]
  },
  {
   "cell_type": "code",
   "execution_count": 10,
   "metadata": {},
   "outputs": [
    {
     "name": "stdout",
     "output_type": "stream",
     "text": [
      "EUR_Pred   1652207523021\n",
      "EUR_Real   1866044733813\n",
      "dtype: float64\n"
     ]
    }
   ],
   "source": [
    "sum_column = sarimax_pred_df.sum(axis=0)\n",
    "print (sum_column) "
   ]
  },
  {
   "cell_type": "code",
   "execution_count": 11,
   "metadata": {},
   "outputs": [
    {
     "data": {
      "text/plain": [
       "88.54061711828226"
      ]
     },
     "execution_count": 11,
     "metadata": {},
     "output_type": "execute_result"
    }
   ],
   "source": [
    "accuracy = (sum_column[0]/sum_column[1])*100\n",
    "\n",
    "accuracy"
   ]
  },
  {
   "cell_type": "markdown",
   "metadata": {},
   "source": [
    "### 1.2 SARIMAX model with default train data and adjusted parameters"
   ]
  },
  {
   "cell_type": "markdown",
   "metadata": {},
   "source": [
    "#### 1.2.1 Training the SARIMAX model with adjusted parameters"
   ]
  },
  {
   "cell_type": "markdown",
   "metadata": {},
   "source": [
    "Info on SARIMAX parameters http://www.statsmodels.org/dev/generated/statsmodels.tsa.statespace.sarimax.SARIMAX.html"
   ]
  },
  {
   "cell_type": "markdown",
   "metadata": {},
   "source": [
    "The following parameters provide the best accuracy, close to 100%:\n",
    "\n",
    "order = (1,1,1), seasonal_order = (1,0,1,12), trend = 'c',enforce_stationarity = False "
   ]
  },
  {
   "cell_type": "code",
   "execution_count": 12,
   "metadata": {},
   "outputs": [
    {
     "data": {
      "text/html": [
       "<table class=\"simpletable\">\n",
       "<caption>Statespace Model Results</caption>\n",
       "<tr>\n",
       "  <th>Dep. Variable:</th>                 <td>EUR</td>              <th>  No. Observations:  </th>    <td>204</td>   \n",
       "</tr>\n",
       "<tr>\n",
       "  <th>Model:</th>           <td>SARIMAX(1, 1, 1)x(1, 0, 1, 12)</td> <th>  Log Likelihood     </th> <td>-4571.560</td>\n",
       "</tr>\n",
       "<tr>\n",
       "  <th>Date:</th>                   <td>Sun, 02 Feb 2020</td>        <th>  AIC                </th> <td>9155.120</td> \n",
       "</tr>\n",
       "<tr>\n",
       "  <th>Time:</th>                       <td>22:28:53</td>            <th>  BIC                </th> <td>9174.570</td> \n",
       "</tr>\n",
       "<tr>\n",
       "  <th>Sample:</th>                    <td>01-01-2002</td>           <th>  HQIC               </th> <td>9162.999</td> \n",
       "</tr>\n",
       "<tr>\n",
       "  <th></th>                          <td>- 12-01-2018</td>          <th>                     </th>     <td> </td>    \n",
       "</tr>\n",
       "<tr>\n",
       "  <th>Covariance Type:</th>               <td>opg</td>              <th>                     </th>     <td> </td>    \n",
       "</tr>\n",
       "</table>\n",
       "<table class=\"simpletable\">\n",
       "<tr>\n",
       "      <td></td>         <th>coef</th>     <th>std err</th>      <th>z</th>      <th>P>|z|</th>  <th>[0.025</th>    <th>0.975]</th>  \n",
       "</tr>\n",
       "<tr>\n",
       "  <th>intercept</th> <td> 1.093e+09</td> <td> 4.19e-11</td> <td> 2.61e+19</td> <td> 0.000</td> <td> 1.09e+09</td> <td> 1.09e+09</td>\n",
       "</tr>\n",
       "<tr>\n",
       "  <th>ar.L1</th>     <td>   -0.3171</td> <td>    0.178</td> <td>   -1.785</td> <td> 0.074</td> <td>   -0.665</td> <td>    0.031</td>\n",
       "</tr>\n",
       "<tr>\n",
       "  <th>ma.L1</th>     <td>   -0.2771</td> <td>    0.188</td> <td>   -1.476</td> <td> 0.140</td> <td>   -0.645</td> <td>    0.091</td>\n",
       "</tr>\n",
       "<tr>\n",
       "  <th>ar.S.L12</th>  <td>    0.7566</td> <td>    0.108</td> <td>    6.997</td> <td> 0.000</td> <td>    0.545</td> <td>    0.969</td>\n",
       "</tr>\n",
       "<tr>\n",
       "  <th>ma.S.L12</th>  <td>   -0.0750</td> <td>    0.144</td> <td>   -0.523</td> <td> 0.601</td> <td>   -0.356</td> <td>    0.206</td>\n",
       "</tr>\n",
       "<tr>\n",
       "  <th>sigma2</th>    <td> 9.078e+19</td> <td> 7.84e-22</td> <td> 1.16e+41</td> <td> 0.000</td> <td> 9.08e+19</td> <td> 9.08e+19</td>\n",
       "</tr>\n",
       "</table>\n",
       "<table class=\"simpletable\">\n",
       "<tr>\n",
       "  <th>Ljung-Box (Q):</th>          <td>117.15</td> <th>  Jarque-Bera (JB):  </th> <td>6.06</td> \n",
       "</tr>\n",
       "<tr>\n",
       "  <th>Prob(Q):</th>                 <td>0.00</td>  <th>  Prob(JB):          </th> <td>0.05</td> \n",
       "</tr>\n",
       "<tr>\n",
       "  <th>Heteroskedasticity (H):</th>  <td>2.96</td>  <th>  Skew:              </th> <td>-0.26</td>\n",
       "</tr>\n",
       "<tr>\n",
       "  <th>Prob(H) (two-sided):</th>     <td>0.00</td>  <th>  Kurtosis:          </th> <td>3.70</td> \n",
       "</tr>\n",
       "</table><br/><br/>Warnings:<br/>[1] Covariance matrix calculated using the outer product of gradients (complex-step).<br/>[2] Covariance matrix is singular or near-singular, with condition number 5.54e+56. Standard errors may be unstable."
      ],
      "text/plain": [
       "<class 'statsmodels.iolib.summary.Summary'>\n",
       "\"\"\"\n",
       "                                 Statespace Model Results                                 \n",
       "==========================================================================================\n",
       "Dep. Variable:                                EUR   No. Observations:                  204\n",
       "Model:             SARIMAX(1, 1, 1)x(1, 0, 1, 12)   Log Likelihood               -4571.560\n",
       "Date:                            Sun, 02 Feb 2020   AIC                           9155.120\n",
       "Time:                                    22:28:53   BIC                           9174.570\n",
       "Sample:                                01-01-2002   HQIC                          9162.999\n",
       "                                     - 12-01-2018                                         \n",
       "Covariance Type:                              opg                                         \n",
       "==============================================================================\n",
       "                 coef    std err          z      P>|z|      [0.025      0.975]\n",
       "------------------------------------------------------------------------------\n",
       "intercept   1.093e+09   4.19e-11   2.61e+19      0.000    1.09e+09    1.09e+09\n",
       "ar.L1         -0.3171      0.178     -1.785      0.074      -0.665       0.031\n",
       "ma.L1         -0.2771      0.188     -1.476      0.140      -0.645       0.091\n",
       "ar.S.L12       0.7566      0.108      6.997      0.000       0.545       0.969\n",
       "ma.S.L12      -0.0750      0.144     -0.523      0.601      -0.356       0.206\n",
       "sigma2      9.078e+19   7.84e-22   1.16e+41      0.000    9.08e+19    9.08e+19\n",
       "===================================================================================\n",
       "Ljung-Box (Q):                      117.15   Jarque-Bera (JB):                 6.06\n",
       "Prob(Q):                              0.00   Prob(JB):                         0.05\n",
       "Heteroskedasticity (H):               2.96   Skew:                            -0.26\n",
       "Prob(H) (two-sided):                  0.00   Kurtosis:                         3.70\n",
       "===================================================================================\n",
       "\n",
       "Warnings:\n",
       "[1] Covariance matrix calculated using the outer product of gradients (complex-step).\n",
       "[2] Covariance matrix is singular or near-singular, with condition number 5.54e+56. Standard errors may be unstable.\n",
       "\"\"\""
      ]
     },
     "execution_count": 12,
     "metadata": {},
     "output_type": "execute_result"
    }
   ],
   "source": [
    "sarimax_model = SARIMAX(train_data['EUR'], order = (1,1,1), seasonal_order = (1,0,1,12), trend = 'c',\n",
    "                      enforce_stationarity = False)\n",
    "sarimax_result = sarimax_model.fit()\n",
    "sarimax_result.summary()"
   ]
  },
  {
   "cell_type": "markdown",
   "metadata": {},
   "source": [
    "#### 1.2.2 Making the prediction"
   ]
  },
  {
   "cell_type": "code",
   "execution_count": 13,
   "metadata": {
    "scrolled": true
   },
   "outputs": [
    {
     "data": {
      "text/plain": [
       "2019-01-01   157648282904\n",
       "2019-02-01   153340072620\n",
       "2019-03-01   173243746452\n",
       "2019-04-01   161188465678\n",
       "2019-05-01   167436405651\n",
       "2019-06-01   175516530743\n",
       "2019-07-01   175011254696\n",
       "2019-08-01   167739436694\n",
       "2019-09-01   170373311829\n",
       "2019-10-01   184209354584\n",
       "2019-11-01   180701864664\n",
       "Freq: MS, Name: SARIMAX Predictions, dtype: float64"
      ]
     },
     "execution_count": 13,
     "metadata": {},
     "output_type": "execute_result"
    }
   ],
   "source": [
    "sarimax_pred = sarimax_result.predict(start = len(train_data), end = len(df_train)-1, \n",
    "                                  typ=\"levels\").rename(\"SARIMAX Predictions\")\n",
    "sarimax_pred"
   ]
  },
  {
   "cell_type": "markdown",
   "metadata": {},
   "source": [
    "#### 1.2.3 Checking the accuracy of prediction"
   ]
  },
  {
   "cell_type": "code",
   "execution_count": 14,
   "metadata": {},
   "outputs": [
    {
     "data": {
      "text/html": [
       "<div>\n",
       "<style scoped>\n",
       "    .dataframe tbody tr th:only-of-type {\n",
       "        vertical-align: middle;\n",
       "    }\n",
       "\n",
       "    .dataframe tbody tr th {\n",
       "        vertical-align: top;\n",
       "    }\n",
       "\n",
       "    .dataframe thead th {\n",
       "        text-align: right;\n",
       "    }\n",
       "</style>\n",
       "<table border=\"1\" class=\"dataframe\">\n",
       "  <thead>\n",
       "    <tr style=\"text-align: right;\">\n",
       "      <th></th>\n",
       "      <th>EUR_Pred</th>\n",
       "      <th>EUR_Real</th>\n",
       "    </tr>\n",
       "    <tr>\n",
       "      <th>Month</th>\n",
       "      <th></th>\n",
       "      <th></th>\n",
       "    </tr>\n",
       "  </thead>\n",
       "  <tbody>\n",
       "    <tr>\n",
       "      <th>2019-01-01</th>\n",
       "      <td>157648282904</td>\n",
       "      <td>153566052799</td>\n",
       "    </tr>\n",
       "    <tr>\n",
       "      <th>2019-02-01</th>\n",
       "      <td>153340072620</td>\n",
       "      <td>156693063016</td>\n",
       "    </tr>\n",
       "    <tr>\n",
       "      <th>2019-03-01</th>\n",
       "      <td>173243746452</td>\n",
       "      <td>173450979799</td>\n",
       "    </tr>\n",
       "    <tr>\n",
       "      <th>2019-04-01</th>\n",
       "      <td>161188465678</td>\n",
       "      <td>171536186561</td>\n",
       "    </tr>\n",
       "    <tr>\n",
       "      <th>2019-05-01</th>\n",
       "      <td>167436405651</td>\n",
       "      <td>179073500735</td>\n",
       "    </tr>\n",
       "    <tr>\n",
       "      <th>2019-06-01</th>\n",
       "      <td>175516530743</td>\n",
       "      <td>164726052862</td>\n",
       "    </tr>\n",
       "    <tr>\n",
       "      <th>2019-07-01</th>\n",
       "      <td>175011254696</td>\n",
       "      <td>181446454044</td>\n",
       "    </tr>\n",
       "    <tr>\n",
       "      <th>2019-08-01</th>\n",
       "      <td>167739436694</td>\n",
       "      <td>154170589012</td>\n",
       "    </tr>\n",
       "    <tr>\n",
       "      <th>2019-09-01</th>\n",
       "      <td>170373311829</td>\n",
       "      <td>168576407504</td>\n",
       "    </tr>\n",
       "    <tr>\n",
       "      <th>2019-10-01</th>\n",
       "      <td>184209354584</td>\n",
       "      <td>190056872447</td>\n",
       "    </tr>\n",
       "    <tr>\n",
       "      <th>2019-11-01</th>\n",
       "      <td>180701864664</td>\n",
       "      <td>172748575034</td>\n",
       "    </tr>\n",
       "  </tbody>\n",
       "</table>\n",
       "</div>"
      ],
      "text/plain": [
       "               EUR_Pred      EUR_Real\n",
       "Month                                \n",
       "2019-01-01 157648282904  153566052799\n",
       "2019-02-01 153340072620  156693063016\n",
       "2019-03-01 173243746452  173450979799\n",
       "2019-04-01 161188465678  171536186561\n",
       "2019-05-01 167436405651  179073500735\n",
       "2019-06-01 175516530743  164726052862\n",
       "2019-07-01 175011254696  181446454044\n",
       "2019-08-01 167739436694  154170589012\n",
       "2019-09-01 170373311829  168576407504\n",
       "2019-10-01 184209354584  190056872447\n",
       "2019-11-01 180701864664  172748575034"
      ]
     },
     "execution_count": 14,
     "metadata": {},
     "output_type": "execute_result"
    }
   ],
   "source": [
    "sarimax_pred_df = pd.DataFrame({'Month':sarimax_pred.index, 'EUR_Pred':sarimax_pred.values})\n",
    "\n",
    "pd.set_option('display.float_format', lambda x: '%.0f' % x)\n",
    "\n",
    "df_real = pd.read_csv('D:\\\\SciKitDatasets\\\\Main\\\\eu_export_check.csv')\n",
    "\n",
    "sarimax_pred_df['EUR_Real'] = df_real['EUR']\n",
    "\n",
    "sarimax_pred_df = sarimax_pred_df.set_index(\"Month\")\n",
    "\n",
    "sarimax_pred_df"
   ]
  },
  {
   "cell_type": "code",
   "execution_count": 15,
   "metadata": {},
   "outputs": [
    {
     "name": "stdout",
     "output_type": "stream",
     "text": [
      "EUR_Pred   1866408726516\n",
      "EUR_Real   1866044733813\n",
      "dtype: float64\n"
     ]
    }
   ],
   "source": [
    "sum_column = sarimax_pred_df.sum(axis=0)\n",
    "print (sum_column) "
   ]
  },
  {
   "cell_type": "code",
   "execution_count": 16,
   "metadata": {},
   "outputs": [
    {
     "data": {
      "text/plain": [
       "99.98049769603335"
      ]
     },
     "execution_count": 16,
     "metadata": {},
     "output_type": "execute_result"
    }
   ],
   "source": [
    "accuracy = (sum_column[1]/sum_column[0])*100\n",
    "\n",
    "accuracy"
   ]
  },
  {
   "cell_type": "markdown",
   "metadata": {},
   "source": [
    "### 1.3 VAR model with default train data and default parameters"
   ]
  },
  {
   "cell_type": "markdown",
   "metadata": {},
   "source": [
    "Info on VAR https://www.statsmodels.org/dev/vector_ar.html\n",
    "\n",
    "VAR can be used for building time series models with multiple parameters - EUR and KG values of export in this case. "
   ]
  },
  {
   "cell_type": "markdown",
   "metadata": {},
   "source": [
    "#### 1.3.1 Importing the data, and transforming it into the format appropriate for VAR"
   ]
  },
  {
   "cell_type": "markdown",
   "metadata": {},
   "source": [
    "This time the KG column is not removed from the dataframe."
   ]
  },
  {
   "cell_type": "code",
   "execution_count": 17,
   "metadata": {
    "scrolled": true
   },
   "outputs": [
    {
     "data": {
      "text/html": [
       "<div>\n",
       "<style scoped>\n",
       "    .dataframe tbody tr th:only-of-type {\n",
       "        vertical-align: middle;\n",
       "    }\n",
       "\n",
       "    .dataframe tbody tr th {\n",
       "        vertical-align: top;\n",
       "    }\n",
       "\n",
       "    .dataframe thead th {\n",
       "        text-align: right;\n",
       "    }\n",
       "</style>\n",
       "<table border=\"1\" class=\"dataframe\">\n",
       "  <thead>\n",
       "    <tr style=\"text-align: right;\">\n",
       "      <th></th>\n",
       "      <th>EUR</th>\n",
       "      <th>KG</th>\n",
       "    </tr>\n",
       "    <tr>\n",
       "      <th>Month</th>\n",
       "      <th></th>\n",
       "      <th></th>\n",
       "    </tr>\n",
       "  </thead>\n",
       "  <tbody>\n",
       "    <tr>\n",
       "      <th>2002-01-01</th>\n",
       "      <td>66399826911</td>\n",
       "      <td>306552133</td>\n",
       "    </tr>\n",
       "    <tr>\n",
       "      <th>2002-02-01</th>\n",
       "      <td>68453193661</td>\n",
       "      <td>325511005</td>\n",
       "    </tr>\n",
       "    <tr>\n",
       "      <th>2002-03-01</th>\n",
       "      <td>75565444323</td>\n",
       "      <td>335659353</td>\n",
       "    </tr>\n",
       "    <tr>\n",
       "      <th>2002-04-01</th>\n",
       "      <td>75171579182</td>\n",
       "      <td>349939261</td>\n",
       "    </tr>\n",
       "    <tr>\n",
       "      <th>2002-05-01</th>\n",
       "      <td>77314780951</td>\n",
       "      <td>366585133</td>\n",
       "    </tr>\n",
       "  </tbody>\n",
       "</table>\n",
       "</div>"
      ],
      "text/plain": [
       "                    EUR         KG\n",
       "Month                             \n",
       "2002-01-01  66399826911  306552133\n",
       "2002-02-01  68453193661  325511005\n",
       "2002-03-01  75565444323  335659353\n",
       "2002-04-01  75171579182  349939261\n",
       "2002-05-01  77314780951  366585133"
      ]
     },
     "execution_count": 17,
     "metadata": {},
     "output_type": "execute_result"
    }
   ],
   "source": [
    "df_full = pd.read_csv('D:\\\\SciKitDatasets\\\\Main\\\\eu_export.csv')\n",
    "\n",
    "df_full['Month'] = pd.to_datetime(df_full['Month'], dayfirst=True)\n",
    "\n",
    "df_train = df_full.set_index(\"Month\")\n",
    "\n",
    "df_train.head(5)"
   ]
  },
  {
   "cell_type": "markdown",
   "metadata": {},
   "source": [
    "#### 1.3.2 Preparing train and test data, and checking the test data"
   ]
  },
  {
   "cell_type": "code",
   "execution_count": 18,
   "metadata": {},
   "outputs": [
    {
     "data": {
      "text/html": [
       "<div>\n",
       "<style scoped>\n",
       "    .dataframe tbody tr th:only-of-type {\n",
       "        vertical-align: middle;\n",
       "    }\n",
       "\n",
       "    .dataframe tbody tr th {\n",
       "        vertical-align: top;\n",
       "    }\n",
       "\n",
       "    .dataframe thead th {\n",
       "        text-align: right;\n",
       "    }\n",
       "</style>\n",
       "<table border=\"1\" class=\"dataframe\">\n",
       "  <thead>\n",
       "    <tr style=\"text-align: right;\">\n",
       "      <th></th>\n",
       "      <th>EUR</th>\n",
       "      <th>KG</th>\n",
       "    </tr>\n",
       "    <tr>\n",
       "      <th>Month</th>\n",
       "      <th></th>\n",
       "      <th></th>\n",
       "    </tr>\n",
       "  </thead>\n",
       "  <tbody>\n",
       "    <tr>\n",
       "      <th>2019-01-01</th>\n",
       "      <td>153566052799</td>\n",
       "      <td>527185078</td>\n",
       "    </tr>\n",
       "    <tr>\n",
       "      <th>2019-02-01</th>\n",
       "      <td>156693063016</td>\n",
       "      <td>539844488</td>\n",
       "    </tr>\n",
       "    <tr>\n",
       "      <th>2019-03-01</th>\n",
       "      <td>173450979799</td>\n",
       "      <td>589567195</td>\n",
       "    </tr>\n",
       "    <tr>\n",
       "      <th>2019-04-01</th>\n",
       "      <td>171536186561</td>\n",
       "      <td>595362389</td>\n",
       "    </tr>\n",
       "    <tr>\n",
       "      <th>2019-05-01</th>\n",
       "      <td>179073500735</td>\n",
       "      <td>593697611</td>\n",
       "    </tr>\n",
       "    <tr>\n",
       "      <th>2019-06-01</th>\n",
       "      <td>164726052862</td>\n",
       "      <td>529887601</td>\n",
       "    </tr>\n",
       "    <tr>\n",
       "      <th>2019-07-01</th>\n",
       "      <td>181446454044</td>\n",
       "      <td>591654771</td>\n",
       "    </tr>\n",
       "    <tr>\n",
       "      <th>2019-08-01</th>\n",
       "      <td>154170589012</td>\n",
       "      <td>545712623</td>\n",
       "    </tr>\n",
       "    <tr>\n",
       "      <th>2019-09-01</th>\n",
       "      <td>168576407504</td>\n",
       "      <td>586815714</td>\n",
       "    </tr>\n",
       "    <tr>\n",
       "      <th>2019-10-01</th>\n",
       "      <td>190056872447</td>\n",
       "      <td>603173119</td>\n",
       "    </tr>\n",
       "    <tr>\n",
       "      <th>2019-11-01</th>\n",
       "      <td>172748575034</td>\n",
       "      <td>569085288</td>\n",
       "    </tr>\n",
       "  </tbody>\n",
       "</table>\n",
       "</div>"
      ],
      "text/plain": [
       "                     EUR         KG\n",
       "Month                              \n",
       "2019-01-01  153566052799  527185078\n",
       "2019-02-01  156693063016  539844488\n",
       "2019-03-01  173450979799  589567195\n",
       "2019-04-01  171536186561  595362389\n",
       "2019-05-01  179073500735  593697611\n",
       "2019-06-01  164726052862  529887601\n",
       "2019-07-01  181446454044  591654771\n",
       "2019-08-01  154170589012  545712623\n",
       "2019-09-01  168576407504  586815714\n",
       "2019-10-01  190056872447  603173119\n",
       "2019-11-01  172748575034  569085288"
      ]
     },
     "execution_count": 18,
     "metadata": {},
     "output_type": "execute_result"
    }
   ],
   "source": [
    "train_data = df_train[:len(df_train)-11]\n",
    "test_data = df_train[len(df_train)-11:]\n",
    "\n",
    "test_data"
   ]
  },
  {
   "cell_type": "markdown",
   "metadata": {},
   "source": [
    "#### 1.3.3 Training the VAR model with default parameters, and making the prediction"
   ]
  },
  {
   "cell_type": "code",
   "execution_count": 19,
   "metadata": {},
   "outputs": [
    {
     "data": {
      "text/plain": [
       "array([[152430551787.4, 532491794.1],\n",
       "       [150788290937.3, 537529468.8],\n",
       "       [149159524569.3, 538674140.6],\n",
       "       [147584299669.5, 537749859.9],\n",
       "       [146082035318.1, 535769765.1],\n",
       "       [144660806708.4, 533293922.5],\n",
       "       [143322525012.2, 530629430.4],\n",
       "       [142065822688.5, 527942304.0],\n",
       "       [140887656251.7, 525320025.8],\n",
       "       [139784192449.3, 522806503.9],\n",
       "       [138751294327.2, 520421601.3]])"
      ]
     },
     "execution_count": 19,
     "metadata": {},
     "output_type": "execute_result"
    }
   ],
   "source": [
    "model = VAR(endog=train_data)\n",
    "model_fit = model.fit()\n",
    "\n",
    "prediction = model_fit.forecast(model_fit.y, steps=len(test_data))\n",
    "\n",
    "np.set_printoptions(suppress=True, formatter={'float_kind':'{:0.1f}'.format})\n",
    "\n",
    "prediction"
   ]
  },
  {
   "cell_type": "markdown",
   "metadata": {},
   "source": [
    "#### 1.3.4 Transforming prediction into a dataframe"
   ]
  },
  {
   "cell_type": "code",
   "execution_count": 20,
   "metadata": {},
   "outputs": [
    {
     "data": {
      "text/html": [
       "<div>\n",
       "<style scoped>\n",
       "    .dataframe tbody tr th:only-of-type {\n",
       "        vertical-align: middle;\n",
       "    }\n",
       "\n",
       "    .dataframe tbody tr th {\n",
       "        vertical-align: top;\n",
       "    }\n",
       "\n",
       "    .dataframe thead tr th {\n",
       "        text-align: left;\n",
       "    }\n",
       "</style>\n",
       "<table border=\"1\" class=\"dataframe\">\n",
       "  <thead>\n",
       "    <tr>\n",
       "      <th></th>\n",
       "      <th>EUR</th>\n",
       "      <th>KG</th>\n",
       "    </tr>\n",
       "  </thead>\n",
       "  <tbody>\n",
       "    <tr>\n",
       "      <th>0</th>\n",
       "      <td>152430551787</td>\n",
       "      <td>532491794</td>\n",
       "    </tr>\n",
       "    <tr>\n",
       "      <th>1</th>\n",
       "      <td>150788290937</td>\n",
       "      <td>537529469</td>\n",
       "    </tr>\n",
       "    <tr>\n",
       "      <th>2</th>\n",
       "      <td>149159524569</td>\n",
       "      <td>538674141</td>\n",
       "    </tr>\n",
       "    <tr>\n",
       "      <th>3</th>\n",
       "      <td>147584299669</td>\n",
       "      <td>537749860</td>\n",
       "    </tr>\n",
       "    <tr>\n",
       "      <th>4</th>\n",
       "      <td>146082035318</td>\n",
       "      <td>535769765</td>\n",
       "    </tr>\n",
       "    <tr>\n",
       "      <th>5</th>\n",
       "      <td>144660806708</td>\n",
       "      <td>533293923</td>\n",
       "    </tr>\n",
       "    <tr>\n",
       "      <th>6</th>\n",
       "      <td>143322525012</td>\n",
       "      <td>530629430</td>\n",
       "    </tr>\n",
       "    <tr>\n",
       "      <th>7</th>\n",
       "      <td>142065822688</td>\n",
       "      <td>527942304</td>\n",
       "    </tr>\n",
       "    <tr>\n",
       "      <th>8</th>\n",
       "      <td>140887656252</td>\n",
       "      <td>525320026</td>\n",
       "    </tr>\n",
       "    <tr>\n",
       "      <th>9</th>\n",
       "      <td>139784192449</td>\n",
       "      <td>522806504</td>\n",
       "    </tr>\n",
       "    <tr>\n",
       "      <th>10</th>\n",
       "      <td>138751294327</td>\n",
       "      <td>520421601</td>\n",
       "    </tr>\n",
       "  </tbody>\n",
       "</table>\n",
       "</div>"
      ],
      "text/plain": [
       "            EUR        KG\n",
       "0  152430551787 532491794\n",
       "1  150788290937 537529469\n",
       "2  149159524569 538674141\n",
       "3  147584299669 537749860\n",
       "4  146082035318 535769765\n",
       "5  144660806708 533293923\n",
       "6  143322525012 530629430\n",
       "7  142065822688 527942304\n",
       "8  140887656252 525320026\n",
       "9  139784192449 522806504\n",
       "10 138751294327 520421601"
      ]
     },
     "execution_count": 20,
     "metadata": {},
     "output_type": "execute_result"
    }
   ],
   "source": [
    "cols = df_train.columns\n",
    "\n",
    "pd.set_option('display.float_format', lambda x: '%.0f' % x)\n",
    "#converting predictions to dataframe\n",
    "pred = pd.DataFrame(index=range(0,len(prediction)),columns=[cols])\n",
    "for j in range(0,2):\n",
    "    for i in range(0, len(prediction)):\n",
    "        pred.iloc[i][j] = prediction[i][j]\n",
    "\n",
    "pred"
   ]
  },
  {
   "cell_type": "markdown",
   "metadata": {},
   "source": [
    "#### 1.3.5 Checking the accuracy of prediction"
   ]
  },
  {
   "cell_type": "code",
   "execution_count": 21,
   "metadata": {},
   "outputs": [
    {
     "data": {
      "text/html": [
       "<div>\n",
       "<style scoped>\n",
       "    .dataframe tbody tr th:only-of-type {\n",
       "        vertical-align: middle;\n",
       "    }\n",
       "\n",
       "    .dataframe tbody tr th {\n",
       "        vertical-align: top;\n",
       "    }\n",
       "\n",
       "    .dataframe thead th {\n",
       "        text-align: right;\n",
       "    }\n",
       "</style>\n",
       "<table border=\"1\" class=\"dataframe\">\n",
       "  <thead>\n",
       "    <tr style=\"text-align: right;\">\n",
       "      <th></th>\n",
       "      <th>EUR_Pred</th>\n",
       "      <th>EUR_Real</th>\n",
       "    </tr>\n",
       "    <tr>\n",
       "      <th>Month</th>\n",
       "      <th></th>\n",
       "      <th></th>\n",
       "    </tr>\n",
       "  </thead>\n",
       "  <tbody>\n",
       "    <tr>\n",
       "      <th>01-01-19</th>\n",
       "      <td>152430551787</td>\n",
       "      <td>153566052799</td>\n",
       "    </tr>\n",
       "    <tr>\n",
       "      <th>01-02-19</th>\n",
       "      <td>150788290937</td>\n",
       "      <td>156693063016</td>\n",
       "    </tr>\n",
       "    <tr>\n",
       "      <th>01-03-19</th>\n",
       "      <td>149159524569</td>\n",
       "      <td>173450979799</td>\n",
       "    </tr>\n",
       "    <tr>\n",
       "      <th>01-04-19</th>\n",
       "      <td>147584299669</td>\n",
       "      <td>171536186561</td>\n",
       "    </tr>\n",
       "    <tr>\n",
       "      <th>01-05-19</th>\n",
       "      <td>146082035318</td>\n",
       "      <td>179073500735</td>\n",
       "    </tr>\n",
       "    <tr>\n",
       "      <th>01-06-19</th>\n",
       "      <td>144660806708</td>\n",
       "      <td>164726052862</td>\n",
       "    </tr>\n",
       "    <tr>\n",
       "      <th>01-07-19</th>\n",
       "      <td>143322525012</td>\n",
       "      <td>181446454044</td>\n",
       "    </tr>\n",
       "    <tr>\n",
       "      <th>01-08-19</th>\n",
       "      <td>142065822688</td>\n",
       "      <td>154170589012</td>\n",
       "    </tr>\n",
       "    <tr>\n",
       "      <th>01-09-19</th>\n",
       "      <td>140887656252</td>\n",
       "      <td>168576407504</td>\n",
       "    </tr>\n",
       "    <tr>\n",
       "      <th>01-10-19</th>\n",
       "      <td>139784192449</td>\n",
       "      <td>190056872447</td>\n",
       "    </tr>\n",
       "    <tr>\n",
       "      <th>01-11-19</th>\n",
       "      <td>138751294327</td>\n",
       "      <td>172748575034</td>\n",
       "    </tr>\n",
       "  </tbody>\n",
       "</table>\n",
       "</div>"
      ],
      "text/plain": [
       "             EUR_Pred      EUR_Real\n",
       "Month                              \n",
       "01-01-19 152430551787  153566052799\n",
       "01-02-19 150788290937  156693063016\n",
       "01-03-19 149159524569  173450979799\n",
       "01-04-19 147584299669  171536186561\n",
       "01-05-19 146082035318  179073500735\n",
       "01-06-19 144660806708  164726052862\n",
       "01-07-19 143322525012  181446454044\n",
       "01-08-19 142065822688  154170589012\n",
       "01-09-19 140887656252  168576407504\n",
       "01-10-19 139784192449  190056872447\n",
       "01-11-19 138751294327  172748575034"
      ]
     },
     "execution_count": 21,
     "metadata": {},
     "output_type": "execute_result"
    }
   ],
   "source": [
    "df_real = pd.read_csv('D:\\\\SciKitDatasets\\\\Main\\\\eu_export_check.csv')\n",
    "\n",
    "df_real = df_real.drop(['KG'], axis=1)\n",
    "\n",
    "df_real['EUR_Pred'] = pred['EUR']\n",
    "\n",
    "df_real['EUR_Real'] = df_real['EUR']\n",
    "\n",
    "df_real = df_real.drop(['EUR'], axis=1)\n",
    "\n",
    "df_real = df_real.set_index(\"Month\")\n",
    "\n",
    "df_real"
   ]
  },
  {
   "cell_type": "code",
   "execution_count": 22,
   "metadata": {},
   "outputs": [
    {
     "name": "stdout",
     "output_type": "stream",
     "text": [
      "EUR_Pred   1595516999719\n",
      "EUR_Real   1866044733813\n",
      "dtype: float64\n"
     ]
    }
   ],
   "source": [
    "sum_column = df_real.sum(axis=0)\n",
    "print (sum_column) "
   ]
  },
  {
   "cell_type": "code",
   "execution_count": 23,
   "metadata": {},
   "outputs": [
    {
     "data": {
      "text/plain": [
       "85.50261260129083"
      ]
     },
     "execution_count": 23,
     "metadata": {},
     "output_type": "execute_result"
    }
   ],
   "source": [
    "accuracy = (sum_column[0]/sum_column[1])*100\n",
    "\n",
    "accuracy"
   ]
  },
  {
   "cell_type": "markdown",
   "metadata": {},
   "source": [
    "### 1.4 VAR model with default train data and adjusted parameters"
   ]
  },
  {
   "cell_type": "markdown",
   "metadata": {},
   "source": [
    "#### 1.4.1 Training the VAR model with adjusted parameters, and making the prediction"
   ]
  },
  {
   "cell_type": "markdown",
   "metadata": {},
   "source": [
    "Info on VAR parameters https://www.statsmodels.org/dev/vector_ar.html#lag-order-selection"
   ]
  },
  {
   "cell_type": "code",
   "execution_count": 24,
   "metadata": {},
   "outputs": [
    {
     "data": {
      "text/plain": [
       "array([[160975119983.0, 549834263.6],\n",
       "       [166056716191.5, 567488611.6],\n",
       "       [165542601332.4, 568382932.6],\n",
       "       [163825692077.6, 567237047.0],\n",
       "       [165171598034.0, 572862010.6],\n",
       "       [166476377922.9, 577909227.1],\n",
       "       [166290089318.3, 578547316.6],\n",
       "       [166279570725.8, 579460397.0],\n",
       "       [166824203905.2, 581634648.3],\n",
       "       [167160387362.0, 583027980.7],\n",
       "       [167255757288.2, 583655142.1]])"
      ]
     },
     "execution_count": 24,
     "metadata": {},
     "output_type": "execute_result"
    }
   ],
   "source": [
    "model = VAR(endog=train_data)\n",
    "model_fit = model.fit(maxlags=4, ic='aic')\n",
    "\n",
    "prediction = model_fit.forecast(model_fit.y, steps=len(test_data))\n",
    "\n",
    "np.set_printoptions(suppress=True, formatter={'float_kind':'{:0.1f}'.format})\n",
    "\n",
    "prediction"
   ]
  },
  {
   "cell_type": "markdown",
   "metadata": {},
   "source": [
    "#### 1.4.2 Transforming prediction into a dataframe"
   ]
  },
  {
   "cell_type": "code",
   "execution_count": 25,
   "metadata": {
    "scrolled": true
   },
   "outputs": [
    {
     "data": {
      "text/html": [
       "<div>\n",
       "<style scoped>\n",
       "    .dataframe tbody tr th:only-of-type {\n",
       "        vertical-align: middle;\n",
       "    }\n",
       "\n",
       "    .dataframe tbody tr th {\n",
       "        vertical-align: top;\n",
       "    }\n",
       "\n",
       "    .dataframe thead tr th {\n",
       "        text-align: left;\n",
       "    }\n",
       "</style>\n",
       "<table border=\"1\" class=\"dataframe\">\n",
       "  <thead>\n",
       "    <tr>\n",
       "      <th></th>\n",
       "      <th>EUR</th>\n",
       "      <th>KG</th>\n",
       "    </tr>\n",
       "  </thead>\n",
       "  <tbody>\n",
       "    <tr>\n",
       "      <th>0</th>\n",
       "      <td>160975119983</td>\n",
       "      <td>549834264</td>\n",
       "    </tr>\n",
       "    <tr>\n",
       "      <th>1</th>\n",
       "      <td>166056716192</td>\n",
       "      <td>567488612</td>\n",
       "    </tr>\n",
       "    <tr>\n",
       "      <th>2</th>\n",
       "      <td>165542601332</td>\n",
       "      <td>568382933</td>\n",
       "    </tr>\n",
       "    <tr>\n",
       "      <th>3</th>\n",
       "      <td>163825692078</td>\n",
       "      <td>567237047</td>\n",
       "    </tr>\n",
       "    <tr>\n",
       "      <th>4</th>\n",
       "      <td>165171598034</td>\n",
       "      <td>572862011</td>\n",
       "    </tr>\n",
       "    <tr>\n",
       "      <th>5</th>\n",
       "      <td>166476377923</td>\n",
       "      <td>577909227</td>\n",
       "    </tr>\n",
       "    <tr>\n",
       "      <th>6</th>\n",
       "      <td>166290089318</td>\n",
       "      <td>578547317</td>\n",
       "    </tr>\n",
       "    <tr>\n",
       "      <th>7</th>\n",
       "      <td>166279570726</td>\n",
       "      <td>579460397</td>\n",
       "    </tr>\n",
       "    <tr>\n",
       "      <th>8</th>\n",
       "      <td>166824203905</td>\n",
       "      <td>581634648</td>\n",
       "    </tr>\n",
       "    <tr>\n",
       "      <th>9</th>\n",
       "      <td>167160387362</td>\n",
       "      <td>583027981</td>\n",
       "    </tr>\n",
       "    <tr>\n",
       "      <th>10</th>\n",
       "      <td>167255757288</td>\n",
       "      <td>583655142</td>\n",
       "    </tr>\n",
       "  </tbody>\n",
       "</table>\n",
       "</div>"
      ],
      "text/plain": [
       "            EUR        KG\n",
       "0  160975119983 549834264\n",
       "1  166056716192 567488612\n",
       "2  165542601332 568382933\n",
       "3  163825692078 567237047\n",
       "4  165171598034 572862011\n",
       "5  166476377923 577909227\n",
       "6  166290089318 578547317\n",
       "7  166279570726 579460397\n",
       "8  166824203905 581634648\n",
       "9  167160387362 583027981\n",
       "10 167255757288 583655142"
      ]
     },
     "execution_count": 25,
     "metadata": {},
     "output_type": "execute_result"
    }
   ],
   "source": [
    "cols = df_train.columns\n",
    "\n",
    "pd.set_option('display.float_format', lambda x: '%.0f' % x)\n",
    "#converting predictions to dataframe\n",
    "pred = pd.DataFrame(index=range(0,len(prediction)),columns=[cols])\n",
    "for j in range(0,2):\n",
    "    for i in range(0, len(prediction)):\n",
    "        pred.iloc[i][j] = prediction[i][j]\n",
    "\n",
    "pred"
   ]
  },
  {
   "cell_type": "markdown",
   "metadata": {},
   "source": [
    "#### 1.4.3 Checking the accuracy of prediction"
   ]
  },
  {
   "cell_type": "code",
   "execution_count": 26,
   "metadata": {},
   "outputs": [
    {
     "data": {
      "text/html": [
       "<div>\n",
       "<style scoped>\n",
       "    .dataframe tbody tr th:only-of-type {\n",
       "        vertical-align: middle;\n",
       "    }\n",
       "\n",
       "    .dataframe tbody tr th {\n",
       "        vertical-align: top;\n",
       "    }\n",
       "\n",
       "    .dataframe thead th {\n",
       "        text-align: right;\n",
       "    }\n",
       "</style>\n",
       "<table border=\"1\" class=\"dataframe\">\n",
       "  <thead>\n",
       "    <tr style=\"text-align: right;\">\n",
       "      <th></th>\n",
       "      <th>EUR_Pred</th>\n",
       "      <th>EUR_Real</th>\n",
       "    </tr>\n",
       "    <tr>\n",
       "      <th>Month</th>\n",
       "      <th></th>\n",
       "      <th></th>\n",
       "    </tr>\n",
       "  </thead>\n",
       "  <tbody>\n",
       "    <tr>\n",
       "      <th>01-01-19</th>\n",
       "      <td>160975119983</td>\n",
       "      <td>153566052799</td>\n",
       "    </tr>\n",
       "    <tr>\n",
       "      <th>01-02-19</th>\n",
       "      <td>166056716192</td>\n",
       "      <td>156693063016</td>\n",
       "    </tr>\n",
       "    <tr>\n",
       "      <th>01-03-19</th>\n",
       "      <td>165542601332</td>\n",
       "      <td>173450979799</td>\n",
       "    </tr>\n",
       "    <tr>\n",
       "      <th>01-04-19</th>\n",
       "      <td>163825692078</td>\n",
       "      <td>171536186561</td>\n",
       "    </tr>\n",
       "    <tr>\n",
       "      <th>01-05-19</th>\n",
       "      <td>165171598034</td>\n",
       "      <td>179073500735</td>\n",
       "    </tr>\n",
       "    <tr>\n",
       "      <th>01-06-19</th>\n",
       "      <td>166476377923</td>\n",
       "      <td>164726052862</td>\n",
       "    </tr>\n",
       "    <tr>\n",
       "      <th>01-07-19</th>\n",
       "      <td>166290089318</td>\n",
       "      <td>181446454044</td>\n",
       "    </tr>\n",
       "    <tr>\n",
       "      <th>01-08-19</th>\n",
       "      <td>166279570726</td>\n",
       "      <td>154170589012</td>\n",
       "    </tr>\n",
       "    <tr>\n",
       "      <th>01-09-19</th>\n",
       "      <td>166824203905</td>\n",
       "      <td>168576407504</td>\n",
       "    </tr>\n",
       "    <tr>\n",
       "      <th>01-10-19</th>\n",
       "      <td>167160387362</td>\n",
       "      <td>190056872447</td>\n",
       "    </tr>\n",
       "    <tr>\n",
       "      <th>01-11-19</th>\n",
       "      <td>167255757288</td>\n",
       "      <td>172748575034</td>\n",
       "    </tr>\n",
       "  </tbody>\n",
       "</table>\n",
       "</div>"
      ],
      "text/plain": [
       "             EUR_Pred      EUR_Real\n",
       "Month                              \n",
       "01-01-19 160975119983  153566052799\n",
       "01-02-19 166056716192  156693063016\n",
       "01-03-19 165542601332  173450979799\n",
       "01-04-19 163825692078  171536186561\n",
       "01-05-19 165171598034  179073500735\n",
       "01-06-19 166476377923  164726052862\n",
       "01-07-19 166290089318  181446454044\n",
       "01-08-19 166279570726  154170589012\n",
       "01-09-19 166824203905  168576407504\n",
       "01-10-19 167160387362  190056872447\n",
       "01-11-19 167255757288  172748575034"
      ]
     },
     "execution_count": 26,
     "metadata": {},
     "output_type": "execute_result"
    }
   ],
   "source": [
    "df_real = pd.read_csv('D:\\\\SciKitDatasets\\\\Main\\\\eu_export_check.csv')\n",
    "\n",
    "df_real = df_real.drop(['KG'], axis=1)\n",
    "\n",
    "df_real['EUR_Pred'] = pred['EUR']\n",
    "\n",
    "df_real['EUR_Real'] = df_real['EUR']\n",
    "\n",
    "df_real = df_real.drop(['EUR'], axis=1)\n",
    "\n",
    "df_real = df_real.set_index(\"Month\")\n",
    "\n",
    "df_real"
   ]
  },
  {
   "cell_type": "code",
   "execution_count": 27,
   "metadata": {},
   "outputs": [
    {
     "name": "stdout",
     "output_type": "stream",
     "text": [
      "EUR_Pred   1821858114141\n",
      "EUR_Real   1866044733813\n",
      "dtype: float64\n"
     ]
    }
   ],
   "source": [
    "sum_column = df_real.sum(axis=0)\n",
    "print (sum_column) "
   ]
  },
  {
   "cell_type": "code",
   "execution_count": 28,
   "metadata": {},
   "outputs": [
    {
     "data": {
      "text/plain": [
       "97.63207071773353"
      ]
     },
     "execution_count": 28,
     "metadata": {},
     "output_type": "execute_result"
    }
   ],
   "source": [
    "accuracy = (sum_column[0]/sum_column[1])*100\n",
    "\n",
    "accuracy"
   ]
  },
  {
   "cell_type": "markdown",
   "metadata": {},
   "source": [
    "### 1.5 VAR model with extended train data and adjusted parameters"
   ]
  },
  {
   "cell_type": "markdown",
   "metadata": {},
   "source": [
    "#### 1.5.1 Importing the data, and transforming it into the format appropriate for VAR"
   ]
  },
  {
   "cell_type": "markdown",
   "metadata": {},
   "source": [
    "This time in addition to the export data (in euros - EUR, and kilograms - KG), the data on the import is also present (EUR_import and KG_import)"
   ]
  },
  {
   "cell_type": "code",
   "execution_count": 29,
   "metadata": {},
   "outputs": [
    {
     "data": {
      "text/html": [
       "<div>\n",
       "<style scoped>\n",
       "    .dataframe tbody tr th:only-of-type {\n",
       "        vertical-align: middle;\n",
       "    }\n",
       "\n",
       "    .dataframe tbody tr th {\n",
       "        vertical-align: top;\n",
       "    }\n",
       "\n",
       "    .dataframe thead th {\n",
       "        text-align: right;\n",
       "    }\n",
       "</style>\n",
       "<table border=\"1\" class=\"dataframe\">\n",
       "  <thead>\n",
       "    <tr style=\"text-align: right;\">\n",
       "      <th></th>\n",
       "      <th>EUR</th>\n",
       "      <th>KG</th>\n",
       "      <th>EUR_Import</th>\n",
       "      <th>KG_Import</th>\n",
       "    </tr>\n",
       "    <tr>\n",
       "      <th>Month</th>\n",
       "      <th></th>\n",
       "      <th></th>\n",
       "      <th></th>\n",
       "      <th></th>\n",
       "    </tr>\n",
       "  </thead>\n",
       "  <tbody>\n",
       "    <tr>\n",
       "      <th>2002-01-01</th>\n",
       "      <td>66399826911</td>\n",
       "      <td>306552133</td>\n",
       "      <td>77944246629</td>\n",
       "      <td>1312535803</td>\n",
       "    </tr>\n",
       "    <tr>\n",
       "      <th>2002-02-01</th>\n",
       "      <td>68453193661</td>\n",
       "      <td>325511005</td>\n",
       "      <td>74247984234</td>\n",
       "      <td>1233779301</td>\n",
       "    </tr>\n",
       "    <tr>\n",
       "      <th>2002-03-01</th>\n",
       "      <td>75565444323</td>\n",
       "      <td>335659353</td>\n",
       "      <td>77757567288</td>\n",
       "      <td>1238087708</td>\n",
       "    </tr>\n",
       "    <tr>\n",
       "      <th>2002-04-01</th>\n",
       "      <td>75171579182</td>\n",
       "      <td>349939261</td>\n",
       "      <td>83725830890</td>\n",
       "      <td>1322987383</td>\n",
       "    </tr>\n",
       "    <tr>\n",
       "      <th>2002-05-01</th>\n",
       "      <td>77314780951</td>\n",
       "      <td>366585133</td>\n",
       "      <td>80290435511</td>\n",
       "      <td>1234862387</td>\n",
       "    </tr>\n",
       "  </tbody>\n",
       "</table>\n",
       "</div>"
      ],
      "text/plain": [
       "                    EUR         KG   EUR_Import   KG_Import\n",
       "Month                                                      \n",
       "2002-01-01  66399826911  306552133  77944246629  1312535803\n",
       "2002-02-01  68453193661  325511005  74247984234  1233779301\n",
       "2002-03-01  75565444323  335659353  77757567288  1238087708\n",
       "2002-04-01  75171579182  349939261  83725830890  1322987383\n",
       "2002-05-01  77314780951  366585133  80290435511  1234862387"
      ]
     },
     "execution_count": 29,
     "metadata": {},
     "output_type": "execute_result"
    }
   ],
   "source": [
    "df_full = pd.read_csv('D:\\\\SciKitDatasets\\\\Main\\\\eu_export_ext.csv')\n",
    "\n",
    "df_full['Month'] = pd.to_datetime(df_full['Month'], dayfirst=True)\n",
    "\n",
    "df_train = df_full.set_index(\"Month\")\n",
    "\n",
    "df_train.head(5)"
   ]
  },
  {
   "cell_type": "markdown",
   "metadata": {},
   "source": [
    "#### 1.5.2 Preparing train and test data, and checking the test data"
   ]
  },
  {
   "cell_type": "code",
   "execution_count": 30,
   "metadata": {},
   "outputs": [
    {
     "data": {
      "text/html": [
       "<div>\n",
       "<style scoped>\n",
       "    .dataframe tbody tr th:only-of-type {\n",
       "        vertical-align: middle;\n",
       "    }\n",
       "\n",
       "    .dataframe tbody tr th {\n",
       "        vertical-align: top;\n",
       "    }\n",
       "\n",
       "    .dataframe thead th {\n",
       "        text-align: right;\n",
       "    }\n",
       "</style>\n",
       "<table border=\"1\" class=\"dataframe\">\n",
       "  <thead>\n",
       "    <tr style=\"text-align: right;\">\n",
       "      <th></th>\n",
       "      <th>EUR</th>\n",
       "      <th>KG</th>\n",
       "      <th>EUR_Import</th>\n",
       "      <th>KG_Import</th>\n",
       "    </tr>\n",
       "    <tr>\n",
       "      <th>Month</th>\n",
       "      <th></th>\n",
       "      <th></th>\n",
       "      <th></th>\n",
       "      <th></th>\n",
       "    </tr>\n",
       "  </thead>\n",
       "  <tbody>\n",
       "    <tr>\n",
       "      <th>2019-01-01</th>\n",
       "      <td>153566052799</td>\n",
       "      <td>527185078</td>\n",
       "      <td>179553926768</td>\n",
       "      <td>1617279179</td>\n",
       "    </tr>\n",
       "    <tr>\n",
       "      <th>2019-02-01</th>\n",
       "      <td>156693063016</td>\n",
       "      <td>539844488</td>\n",
       "      <td>159111600738</td>\n",
       "      <td>1419068135</td>\n",
       "    </tr>\n",
       "    <tr>\n",
       "      <th>2019-03-01</th>\n",
       "      <td>173450979799</td>\n",
       "      <td>589567195</td>\n",
       "      <td>170485906736</td>\n",
       "      <td>1461561454</td>\n",
       "    </tr>\n",
       "    <tr>\n",
       "      <th>2019-04-01</th>\n",
       "      <td>171536186561</td>\n",
       "      <td>595362389</td>\n",
       "      <td>170305574033</td>\n",
       "      <td>1467346096</td>\n",
       "    </tr>\n",
       "    <tr>\n",
       "      <th>2019-05-01</th>\n",
       "      <td>179073500735</td>\n",
       "      <td>593697611</td>\n",
       "      <td>172132982435</td>\n",
       "      <td>1502933087</td>\n",
       "    </tr>\n",
       "    <tr>\n",
       "      <th>2019-06-01</th>\n",
       "      <td>164726052862</td>\n",
       "      <td>529887601</td>\n",
       "      <td>159071228979</td>\n",
       "      <td>1389937426</td>\n",
       "    </tr>\n",
       "    <tr>\n",
       "      <th>2019-07-01</th>\n",
       "      <td>181446454044</td>\n",
       "      <td>591654771</td>\n",
       "      <td>182290603452</td>\n",
       "      <td>1493635956</td>\n",
       "    </tr>\n",
       "    <tr>\n",
       "      <th>2019-08-01</th>\n",
       "      <td>154170589012</td>\n",
       "      <td>545712623</td>\n",
       "      <td>166952828875</td>\n",
       "      <td>1426244834</td>\n",
       "    </tr>\n",
       "    <tr>\n",
       "      <th>2019-09-01</th>\n",
       "      <td>168576407504</td>\n",
       "      <td>586815714</td>\n",
       "      <td>173606828344</td>\n",
       "      <td>1380452569</td>\n",
       "    </tr>\n",
       "    <tr>\n",
       "      <th>2019-10-01</th>\n",
       "      <td>190056872447</td>\n",
       "      <td>603173119</td>\n",
       "      <td>187813644431</td>\n",
       "      <td>1485355217</td>\n",
       "    </tr>\n",
       "    <tr>\n",
       "      <th>2019-11-01</th>\n",
       "      <td>172748575034</td>\n",
       "      <td>569085288</td>\n",
       "      <td>170135665073</td>\n",
       "      <td>1391808319</td>\n",
       "    </tr>\n",
       "  </tbody>\n",
       "</table>\n",
       "</div>"
      ],
      "text/plain": [
       "                     EUR         KG    EUR_Import   KG_Import\n",
       "Month                                                        \n",
       "2019-01-01  153566052799  527185078  179553926768  1617279179\n",
       "2019-02-01  156693063016  539844488  159111600738  1419068135\n",
       "2019-03-01  173450979799  589567195  170485906736  1461561454\n",
       "2019-04-01  171536186561  595362389  170305574033  1467346096\n",
       "2019-05-01  179073500735  593697611  172132982435  1502933087\n",
       "2019-06-01  164726052862  529887601  159071228979  1389937426\n",
       "2019-07-01  181446454044  591654771  182290603452  1493635956\n",
       "2019-08-01  154170589012  545712623  166952828875  1426244834\n",
       "2019-09-01  168576407504  586815714  173606828344  1380452569\n",
       "2019-10-01  190056872447  603173119  187813644431  1485355217\n",
       "2019-11-01  172748575034  569085288  170135665073  1391808319"
      ]
     },
     "execution_count": 30,
     "metadata": {},
     "output_type": "execute_result"
    }
   ],
   "source": [
    "train_data = df_train[:len(df_train)-11]\n",
    "test_data = df_train[len(df_train)-11:]\n",
    "\n",
    "test_data"
   ]
  },
  {
   "cell_type": "markdown",
   "metadata": {},
   "source": [
    "#### 1.5.3 Training the VAR model with adjusted parameters, and making the prediction"
   ]
  },
  {
   "cell_type": "code",
   "execution_count": 31,
   "metadata": {},
   "outputs": [
    {
     "data": {
      "text/plain": [
       "array([[146046425883.3, 512403419.4, 163926513950.5, 1505820237.4],\n",
       "       [149331234480.7, 519536383.6, 158678163020.7, 1404274789.4],\n",
       "       [162758862461.8, 565347507.8, 167882181585.9, 1503653041.6],\n",
       "       [153619852269.9, 544377242.2, 161654918662.4, 1457090175.0],\n",
       "       [152508625857.9, 539368852.4, 159553230966.6, 1436741286.6],\n",
       "       [156898514693.4, 556479725.8, 163825150159.3, 1461646650.8],\n",
       "       [155035827433.4, 551215769.8, 161333333173.7, 1437960091.8],\n",
       "       [155999456298.7, 554539805.7, 161563393914.9, 1443869787.7],\n",
       "       [155688309844.8, 555076671.8, 161756607625.2, 1440521531.9],\n",
       "       [155536740584.8, 554374869.6, 160993544920.3, 1431809917.3],\n",
       "       [156437434025.5, 557668906.1, 161578774119.2, 1435911560.7]])"
      ]
     },
     "execution_count": 31,
     "metadata": {},
     "output_type": "execute_result"
    }
   ],
   "source": [
    "model = VAR(endog=train_data)\n",
    "model_fit = model.fit(maxlags=4, ic='aic')\n",
    "\n",
    "prediction = model_fit.forecast(model_fit.y, steps=len(test_data))\n",
    "\n",
    "np.set_printoptions(suppress=True, formatter={'float_kind':'{:0.1f}'.format})\n",
    "\n",
    "prediction"
   ]
  },
  {
   "cell_type": "markdown",
   "metadata": {},
   "source": [
    "#### 1.5.4 Transforming prediction into a dataframe"
   ]
  },
  {
   "cell_type": "code",
   "execution_count": 32,
   "metadata": {},
   "outputs": [
    {
     "data": {
      "text/html": [
       "<div>\n",
       "<style scoped>\n",
       "    .dataframe tbody tr th:only-of-type {\n",
       "        vertical-align: middle;\n",
       "    }\n",
       "\n",
       "    .dataframe tbody tr th {\n",
       "        vertical-align: top;\n",
       "    }\n",
       "\n",
       "    .dataframe thead tr th {\n",
       "        text-align: left;\n",
       "    }\n",
       "</style>\n",
       "<table border=\"1\" class=\"dataframe\">\n",
       "  <thead>\n",
       "    <tr>\n",
       "      <th></th>\n",
       "      <th>EUR</th>\n",
       "      <th>KG</th>\n",
       "      <th>EUR_Import</th>\n",
       "      <th>KG_Import</th>\n",
       "    </tr>\n",
       "  </thead>\n",
       "  <tbody>\n",
       "    <tr>\n",
       "      <th>0</th>\n",
       "      <td>146046425883</td>\n",
       "      <td>512403419</td>\n",
       "      <td>163926513950</td>\n",
       "      <td>1505820237</td>\n",
       "    </tr>\n",
       "    <tr>\n",
       "      <th>1</th>\n",
       "      <td>149331234481</td>\n",
       "      <td>519536384</td>\n",
       "      <td>158678163021</td>\n",
       "      <td>1404274789</td>\n",
       "    </tr>\n",
       "    <tr>\n",
       "      <th>2</th>\n",
       "      <td>162758862462</td>\n",
       "      <td>565347508</td>\n",
       "      <td>167882181586</td>\n",
       "      <td>1503653042</td>\n",
       "    </tr>\n",
       "    <tr>\n",
       "      <th>3</th>\n",
       "      <td>153619852270</td>\n",
       "      <td>544377242</td>\n",
       "      <td>161654918662</td>\n",
       "      <td>1457090175</td>\n",
       "    </tr>\n",
       "    <tr>\n",
       "      <th>4</th>\n",
       "      <td>152508625858</td>\n",
       "      <td>539368852</td>\n",
       "      <td>159553230967</td>\n",
       "      <td>1436741287</td>\n",
       "    </tr>\n",
       "    <tr>\n",
       "      <th>5</th>\n",
       "      <td>156898514693</td>\n",
       "      <td>556479726</td>\n",
       "      <td>163825150159</td>\n",
       "      <td>1461646651</td>\n",
       "    </tr>\n",
       "    <tr>\n",
       "      <th>6</th>\n",
       "      <td>155035827433</td>\n",
       "      <td>551215770</td>\n",
       "      <td>161333333174</td>\n",
       "      <td>1437960092</td>\n",
       "    </tr>\n",
       "    <tr>\n",
       "      <th>7</th>\n",
       "      <td>155999456299</td>\n",
       "      <td>554539806</td>\n",
       "      <td>161563393915</td>\n",
       "      <td>1443869788</td>\n",
       "    </tr>\n",
       "    <tr>\n",
       "      <th>8</th>\n",
       "      <td>155688309845</td>\n",
       "      <td>555076672</td>\n",
       "      <td>161756607625</td>\n",
       "      <td>1440521532</td>\n",
       "    </tr>\n",
       "    <tr>\n",
       "      <th>9</th>\n",
       "      <td>155536740585</td>\n",
       "      <td>554374870</td>\n",
       "      <td>160993544920</td>\n",
       "      <td>1431809917</td>\n",
       "    </tr>\n",
       "    <tr>\n",
       "      <th>10</th>\n",
       "      <td>156437434025</td>\n",
       "      <td>557668906</td>\n",
       "      <td>161578774119</td>\n",
       "      <td>1435911561</td>\n",
       "    </tr>\n",
       "  </tbody>\n",
       "</table>\n",
       "</div>"
      ],
      "text/plain": [
       "            EUR        KG   EUR_Import  KG_Import\n",
       "0  146046425883 512403419 163926513950 1505820237\n",
       "1  149331234481 519536384 158678163021 1404274789\n",
       "2  162758862462 565347508 167882181586 1503653042\n",
       "3  153619852270 544377242 161654918662 1457090175\n",
       "4  152508625858 539368852 159553230967 1436741287\n",
       "5  156898514693 556479726 163825150159 1461646651\n",
       "6  155035827433 551215770 161333333174 1437960092\n",
       "7  155999456299 554539806 161563393915 1443869788\n",
       "8  155688309845 555076672 161756607625 1440521532\n",
       "9  155536740585 554374870 160993544920 1431809917\n",
       "10 156437434025 557668906 161578774119 1435911561"
      ]
     },
     "execution_count": 32,
     "metadata": {},
     "output_type": "execute_result"
    }
   ],
   "source": [
    "cols = df_train.columns\n",
    "\n",
    "pd.set_option('display.float_format', lambda x: '%.0f' % x)\n",
    "#converting predictions to dataframe\n",
    "pred = pd.DataFrame(index=range(0,len(prediction)),columns=[cols])\n",
    "for j in range(0,4):\n",
    "    for i in range(0, len(prediction)):\n",
    "        pred.iloc[i][j] = prediction[i][j]\n",
    "\n",
    "pred"
   ]
  },
  {
   "cell_type": "markdown",
   "metadata": {},
   "source": [
    "#### 1.5.5 Checking the accuracy of prediction"
   ]
  },
  {
   "cell_type": "code",
   "execution_count": 33,
   "metadata": {},
   "outputs": [
    {
     "data": {
      "text/html": [
       "<div>\n",
       "<style scoped>\n",
       "    .dataframe tbody tr th:only-of-type {\n",
       "        vertical-align: middle;\n",
       "    }\n",
       "\n",
       "    .dataframe tbody tr th {\n",
       "        vertical-align: top;\n",
       "    }\n",
       "\n",
       "    .dataframe thead th {\n",
       "        text-align: right;\n",
       "    }\n",
       "</style>\n",
       "<table border=\"1\" class=\"dataframe\">\n",
       "  <thead>\n",
       "    <tr style=\"text-align: right;\">\n",
       "      <th></th>\n",
       "      <th>EUR_Pred</th>\n",
       "      <th>EUR_Real</th>\n",
       "    </tr>\n",
       "    <tr>\n",
       "      <th>Month</th>\n",
       "      <th></th>\n",
       "      <th></th>\n",
       "    </tr>\n",
       "  </thead>\n",
       "  <tbody>\n",
       "    <tr>\n",
       "      <th>01-01-19</th>\n",
       "      <td>146046425883</td>\n",
       "      <td>153566052799</td>\n",
       "    </tr>\n",
       "    <tr>\n",
       "      <th>01-02-19</th>\n",
       "      <td>149331234481</td>\n",
       "      <td>156693063016</td>\n",
       "    </tr>\n",
       "    <tr>\n",
       "      <th>01-03-19</th>\n",
       "      <td>162758862462</td>\n",
       "      <td>173450979799</td>\n",
       "    </tr>\n",
       "    <tr>\n",
       "      <th>01-04-19</th>\n",
       "      <td>153619852270</td>\n",
       "      <td>171536186561</td>\n",
       "    </tr>\n",
       "    <tr>\n",
       "      <th>01-05-19</th>\n",
       "      <td>152508625858</td>\n",
       "      <td>179073500735</td>\n",
       "    </tr>\n",
       "    <tr>\n",
       "      <th>01-06-19</th>\n",
       "      <td>156898514693</td>\n",
       "      <td>164726052862</td>\n",
       "    </tr>\n",
       "    <tr>\n",
       "      <th>01-07-19</th>\n",
       "      <td>155035827433</td>\n",
       "      <td>181446454044</td>\n",
       "    </tr>\n",
       "    <tr>\n",
       "      <th>01-08-19</th>\n",
       "      <td>155999456299</td>\n",
       "      <td>154170589012</td>\n",
       "    </tr>\n",
       "    <tr>\n",
       "      <th>01-09-19</th>\n",
       "      <td>155688309845</td>\n",
       "      <td>168576407504</td>\n",
       "    </tr>\n",
       "    <tr>\n",
       "      <th>01-10-19</th>\n",
       "      <td>155536740585</td>\n",
       "      <td>190056872447</td>\n",
       "    </tr>\n",
       "    <tr>\n",
       "      <th>01-11-19</th>\n",
       "      <td>156437434025</td>\n",
       "      <td>172748575034</td>\n",
       "    </tr>\n",
       "  </tbody>\n",
       "</table>\n",
       "</div>"
      ],
      "text/plain": [
       "             EUR_Pred      EUR_Real\n",
       "Month                              \n",
       "01-01-19 146046425883  153566052799\n",
       "01-02-19 149331234481  156693063016\n",
       "01-03-19 162758862462  173450979799\n",
       "01-04-19 153619852270  171536186561\n",
       "01-05-19 152508625858  179073500735\n",
       "01-06-19 156898514693  164726052862\n",
       "01-07-19 155035827433  181446454044\n",
       "01-08-19 155999456299  154170589012\n",
       "01-09-19 155688309845  168576407504\n",
       "01-10-19 155536740585  190056872447\n",
       "01-11-19 156437434025  172748575034"
      ]
     },
     "execution_count": 33,
     "metadata": {},
     "output_type": "execute_result"
    }
   ],
   "source": [
    "df_real = pd.read_csv('D:\\\\SciKitDatasets\\\\Main\\\\eu_export_check.csv')\n",
    "\n",
    "df_real = df_real.drop(['KG'], axis=1)\n",
    "\n",
    "df_real['EUR_Pred'] = pred['EUR']\n",
    "\n",
    "df_real['EUR_Real'] = df_real['EUR']\n",
    "\n",
    "df_real = df_real.drop(['EUR'], axis=1)\n",
    "\n",
    "df_real = df_real.set_index(\"Month\")\n",
    "\n",
    "df_real"
   ]
  },
  {
   "cell_type": "code",
   "execution_count": 34,
   "metadata": {},
   "outputs": [
    {
     "name": "stdout",
     "output_type": "stream",
     "text": [
      "EUR_Pred   1699861283834\n",
      "EUR_Real   1866044733813\n",
      "dtype: float64\n"
     ]
    }
   ],
   "source": [
    "sum_column = df_real.sum(axis=0)\n",
    "print (sum_column) "
   ]
  },
  {
   "cell_type": "code",
   "execution_count": 35,
   "metadata": {},
   "outputs": [
    {
     "data": {
      "text/plain": [
       "91.09434800958498"
      ]
     },
     "execution_count": 35,
     "metadata": {},
     "output_type": "execute_result"
    }
   ],
   "source": [
    "accuracy = (sum_column[0]/sum_column[1])*100\n",
    "\n",
    "accuracy"
   ]
  },
  {
   "cell_type": "markdown",
   "metadata": {},
   "source": [
    "#### 1.5.6 Comments the extended data usage"
   ]
  },
  {
   "cell_type": "markdown",
   "metadata": {},
   "source": [
    "The attempts to combine four variables in section 1.5, same as the combination of two variables in sections 1.3-1.4, haven't led to the production of the most accurate model in this case. The two visualizations below clearly show that there are some serious differences in the dynamics of the utilized variables, and this adds unnecessary confusion during the training of models, thus decreasing their accuracy."
   ]
  },
  {
   "cell_type": "code",
   "execution_count": 36,
   "metadata": {},
   "outputs": [
    {
     "data": {
      "image/png": "[encoded data removed]",
      "text/plain": [
       "<Figure size 1152x360 with 1 Axes>"
      ]
     },
     "metadata": {},
     "output_type": "display_data"
    }
   ],
   "source": [
    "df_train['EUR'].plot(figsize = (16,5), legend=True)\n",
    "df_train['EUR_Import'].plot(figsize = (16,5), legend=True);"
   ]
  },
  {
   "cell_type": "code",
   "execution_count": 37,
   "metadata": {},
   "outputs": [
    {
     "data": {
      "image/png": "[encoded data removed]",
      "text/plain": [
       "<Figure size 1152x360 with 1 Axes>"
      ]
     },
     "metadata": {},
     "output_type": "display_data"
    }
   ],
   "source": [
    "df_train['KG'].plot(figsize = (16,5), legend=True)\n",
    "df_train['KG_Import'].plot(figsize = (16,5), legend=True);"
   ]
  },
  {
   "cell_type": "markdown",
   "metadata": {},
   "source": [
    "### 1.6 SARIMAX model with post-crisis train data and adjusted parameters"
   ]
  },
  {
   "cell_type": "markdown",
   "metadata": {},
   "source": [
    "It might be worth trying to only use the data from the period after the 2008 financial crisis, as removing the sharp decrease in export value between 2008 and 2009 can help to improve the accuracy of the prediction. "
   ]
  },
  {
   "cell_type": "markdown",
   "metadata": {},
   "source": [
    "#### 1.6.1 Justification for using post-crisis data "
   ]
  },
  {
   "cell_type": "code",
   "execution_count": 38,
   "metadata": {},
   "outputs": [
    {
     "data": {
      "image/png": "[encoded data removed]",
      "text/plain": [
       "<Figure size 1152x360 with 1 Axes>"
      ]
     },
     "metadata": {},
     "output_type": "display_data"
    }
   ],
   "source": [
    "ax = df_train['EUR'].plot(figsize = (16,5), title = \"EU Export\")\n",
    "ax.set(xlabel='Month', ylabel='Export (Trillion EUR)');"
   ]
  },
  {
   "cell_type": "markdown",
   "metadata": {},
   "source": [
    "#### 1.6.2 Importing the data and dropping the unnecessary column"
   ]
  },
  {
   "cell_type": "code",
   "execution_count": 39,
   "metadata": {},
   "outputs": [
    {
     "data": {
      "text/html": [
       "<div>\n",
       "<style scoped>\n",
       "    .dataframe tbody tr th:only-of-type {\n",
       "        vertical-align: middle;\n",
       "    }\n",
       "\n",
       "    .dataframe tbody tr th {\n",
       "        vertical-align: top;\n",
       "    }\n",
       "\n",
       "    .dataframe thead th {\n",
       "        text-align: right;\n",
       "    }\n",
       "</style>\n",
       "<table border=\"1\" class=\"dataframe\">\n",
       "  <thead>\n",
       "    <tr style=\"text-align: right;\">\n",
       "      <th></th>\n",
       "      <th>Month</th>\n",
       "      <th>EUR</th>\n",
       "    </tr>\n",
       "  </thead>\n",
       "  <tbody>\n",
       "    <tr>\n",
       "      <th>0</th>\n",
       "      <td>2009-01-01</td>\n",
       "      <td>75648828964</td>\n",
       "    </tr>\n",
       "    <tr>\n",
       "      <th>1</th>\n",
       "      <td>2009-02-01</td>\n",
       "      <td>85241108352</td>\n",
       "    </tr>\n",
       "    <tr>\n",
       "      <th>2</th>\n",
       "      <td>2009-03-01</td>\n",
       "      <td>93561254498</td>\n",
       "    </tr>\n",
       "    <tr>\n",
       "      <th>3</th>\n",
       "      <td>2009-04-01</td>\n",
       "      <td>88663956646</td>\n",
       "    </tr>\n",
       "    <tr>\n",
       "      <th>4</th>\n",
       "      <td>2009-05-01</td>\n",
       "      <td>85811123238</td>\n",
       "    </tr>\n",
       "  </tbody>\n",
       "</table>\n",
       "</div>"
      ],
      "text/plain": [
       "       Month          EUR\n",
       "0 2009-01-01  75648828964\n",
       "1 2009-02-01  85241108352\n",
       "2 2009-03-01  93561254498\n",
       "3 2009-04-01  88663956646\n",
       "4 2009-05-01  85811123238"
      ]
     },
     "execution_count": 39,
     "metadata": {},
     "output_type": "execute_result"
    }
   ],
   "source": [
    "df_full = pd.read_csv('D:\\\\SciKitDatasets\\\\Main\\\\eu_export_crisis.csv')\n",
    "\n",
    "df_full['Month'] = pd.to_datetime(df_full['Month'], dayfirst=True)\n",
    "\n",
    "df_train = df_full.drop(['KG'], axis=1)\n",
    "\n",
    "df_train.head(5)"
   ]
  },
  {
   "cell_type": "markdown",
   "metadata": {},
   "source": [
    "#### 1.6.3 Transforming the dataset into the format appropriate for SARIMAX"
   ]
  },
  {
   "cell_type": "code",
   "execution_count": 40,
   "metadata": {},
   "outputs": [
    {
     "data": {
      "text/html": [
       "<div>\n",
       "<style scoped>\n",
       "    .dataframe tbody tr th:only-of-type {\n",
       "        vertical-align: middle;\n",
       "    }\n",
       "\n",
       "    .dataframe tbody tr th {\n",
       "        vertical-align: top;\n",
       "    }\n",
       "\n",
       "    .dataframe thead th {\n",
       "        text-align: right;\n",
       "    }\n",
       "</style>\n",
       "<table border=\"1\" class=\"dataframe\">\n",
       "  <thead>\n",
       "    <tr style=\"text-align: right;\">\n",
       "      <th></th>\n",
       "      <th>EUR</th>\n",
       "    </tr>\n",
       "    <tr>\n",
       "      <th>Month</th>\n",
       "      <th></th>\n",
       "    </tr>\n",
       "  </thead>\n",
       "  <tbody>\n",
       "    <tr>\n",
       "      <th>2009-01-01</th>\n",
       "      <td>75648828964</td>\n",
       "    </tr>\n",
       "    <tr>\n",
       "      <th>2009-02-01</th>\n",
       "      <td>85241108352</td>\n",
       "    </tr>\n",
       "    <tr>\n",
       "      <th>2009-03-01</th>\n",
       "      <td>93561254498</td>\n",
       "    </tr>\n",
       "    <tr>\n",
       "      <th>2009-04-01</th>\n",
       "      <td>88663956646</td>\n",
       "    </tr>\n",
       "    <tr>\n",
       "      <th>2009-05-01</th>\n",
       "      <td>85811123238</td>\n",
       "    </tr>\n",
       "  </tbody>\n",
       "</table>\n",
       "</div>"
      ],
      "text/plain": [
       "                    EUR\n",
       "Month                  \n",
       "2009-01-01  75648828964\n",
       "2009-02-01  85241108352\n",
       "2009-03-01  93561254498\n",
       "2009-04-01  88663956646\n",
       "2009-05-01  85811123238"
      ]
     },
     "execution_count": 40,
     "metadata": {},
     "output_type": "execute_result"
    }
   ],
   "source": [
    "df_train = df_train.set_index(\"Month\")\n",
    "\n",
    "df_train.head(5)"
   ]
  },
  {
   "cell_type": "markdown",
   "metadata": {},
   "source": [
    "#### 1.6.4 Preparing train and test data, and checking the test data"
   ]
  },
  {
   "cell_type": "code",
   "execution_count": 41,
   "metadata": {},
   "outputs": [
    {
     "data": {
      "text/html": [
       "<div>\n",
       "<style scoped>\n",
       "    .dataframe tbody tr th:only-of-type {\n",
       "        vertical-align: middle;\n",
       "    }\n",
       "\n",
       "    .dataframe tbody tr th {\n",
       "        vertical-align: top;\n",
       "    }\n",
       "\n",
       "    .dataframe thead th {\n",
       "        text-align: right;\n",
       "    }\n",
       "</style>\n",
       "<table border=\"1\" class=\"dataframe\">\n",
       "  <thead>\n",
       "    <tr style=\"text-align: right;\">\n",
       "      <th></th>\n",
       "      <th>EUR</th>\n",
       "    </tr>\n",
       "    <tr>\n",
       "      <th>Month</th>\n",
       "      <th></th>\n",
       "    </tr>\n",
       "  </thead>\n",
       "  <tbody>\n",
       "    <tr>\n",
       "      <th>2019-01-01</th>\n",
       "      <td>153566052799</td>\n",
       "    </tr>\n",
       "    <tr>\n",
       "      <th>2019-02-01</th>\n",
       "      <td>156693063016</td>\n",
       "    </tr>\n",
       "    <tr>\n",
       "      <th>2019-03-01</th>\n",
       "      <td>173450979799</td>\n",
       "    </tr>\n",
       "    <tr>\n",
       "      <th>2019-04-01</th>\n",
       "      <td>171536186561</td>\n",
       "    </tr>\n",
       "    <tr>\n",
       "      <th>2019-05-01</th>\n",
       "      <td>179073500735</td>\n",
       "    </tr>\n",
       "    <tr>\n",
       "      <th>2019-06-01</th>\n",
       "      <td>164726052862</td>\n",
       "    </tr>\n",
       "    <tr>\n",
       "      <th>2019-07-01</th>\n",
       "      <td>181446454044</td>\n",
       "    </tr>\n",
       "    <tr>\n",
       "      <th>2019-08-01</th>\n",
       "      <td>154170589012</td>\n",
       "    </tr>\n",
       "    <tr>\n",
       "      <th>2019-09-01</th>\n",
       "      <td>168576407504</td>\n",
       "    </tr>\n",
       "    <tr>\n",
       "      <th>2019-10-01</th>\n",
       "      <td>190056872447</td>\n",
       "    </tr>\n",
       "    <tr>\n",
       "      <th>2019-11-01</th>\n",
       "      <td>172748575034</td>\n",
       "    </tr>\n",
       "  </tbody>\n",
       "</table>\n",
       "</div>"
      ],
      "text/plain": [
       "                     EUR\n",
       "Month                   \n",
       "2019-01-01  153566052799\n",
       "2019-02-01  156693063016\n",
       "2019-03-01  173450979799\n",
       "2019-04-01  171536186561\n",
       "2019-05-01  179073500735\n",
       "2019-06-01  164726052862\n",
       "2019-07-01  181446454044\n",
       "2019-08-01  154170589012\n",
       "2019-09-01  168576407504\n",
       "2019-10-01  190056872447\n",
       "2019-11-01  172748575034"
      ]
     },
     "execution_count": 41,
     "metadata": {},
     "output_type": "execute_result"
    }
   ],
   "source": [
    "train_data = df_train[:len(df_train)-11]\n",
    "test_data = df_train[len(df_train)-11:]\n",
    "\n",
    "test_data"
   ]
  },
  {
   "cell_type": "markdown",
   "metadata": {},
   "source": [
    "#### 1.6.5 Training the SARIMAX model with adjusted parameters"
   ]
  },
  {
   "cell_type": "code",
   "execution_count": 42,
   "metadata": {},
   "outputs": [
    {
     "data": {
      "text/html": [
       "<table class=\"simpletable\">\n",
       "<caption>Statespace Model Results</caption>\n",
       "<tr>\n",
       "  <th>Dep. Variable:</th>                 <td>EUR</td>              <th>  No. Observations:  </th>    <td>120</td>   \n",
       "</tr>\n",
       "<tr>\n",
       "  <th>Model:</th>           <td>SARIMAX(1, 1, 1)x(1, 0, 1, 12)</td> <th>  Log Likelihood     </th> <td>-2549.754</td>\n",
       "</tr>\n",
       "<tr>\n",
       "  <th>Date:</th>                   <td>Sun, 02 Feb 2020</td>        <th>  AIC                </th> <td>5111.509</td> \n",
       "</tr>\n",
       "<tr>\n",
       "  <th>Time:</th>                       <td>22:30:10</td>            <th>  BIC                </th> <td>5127.432</td> \n",
       "</tr>\n",
       "<tr>\n",
       "  <th>Sample:</th>                    <td>01-01-2009</td>           <th>  HQIC               </th> <td>5117.961</td> \n",
       "</tr>\n",
       "<tr>\n",
       "  <th></th>                          <td>- 12-01-2018</td>          <th>                     </th>     <td> </td>    \n",
       "</tr>\n",
       "<tr>\n",
       "  <th>Covariance Type:</th>               <td>opg</td>              <th>                     </th>     <td> </td>    \n",
       "</tr>\n",
       "</table>\n",
       "<table class=\"simpletable\">\n",
       "<tr>\n",
       "      <td></td>         <th>coef</th>     <th>std err</th>      <th>z</th>      <th>P>|z|</th>  <th>[0.025</th>    <th>0.975]</th>  \n",
       "</tr>\n",
       "<tr>\n",
       "  <th>intercept</th> <td> 1.757e+09</td> <td> 4.58e-11</td> <td> 3.84e+19</td> <td> 0.000</td> <td> 1.76e+09</td> <td> 1.76e+09</td>\n",
       "</tr>\n",
       "<tr>\n",
       "  <th>ar.L1</th>     <td>   -0.3615</td> <td>    0.260</td> <td>   -1.392</td> <td> 0.164</td> <td>   -0.870</td> <td>    0.148</td>\n",
       "</tr>\n",
       "<tr>\n",
       "  <th>ma.L1</th>     <td>   -0.2523</td> <td>    0.306</td> <td>   -0.825</td> <td> 0.409</td> <td>   -0.851</td> <td>    0.347</td>\n",
       "</tr>\n",
       "<tr>\n",
       "  <th>ar.S.L12</th>  <td>    0.6882</td> <td>    0.162</td> <td>    4.249</td> <td> 0.000</td> <td>    0.371</td> <td>    1.006</td>\n",
       "</tr>\n",
       "<tr>\n",
       "  <th>ma.S.L12</th>  <td>    0.0330</td> <td>    0.205</td> <td>    0.161</td> <td> 0.872</td> <td>   -0.369</td> <td>    0.435</td>\n",
       "</tr>\n",
       "<tr>\n",
       "  <th>sigma2</th>    <td> 1.098e+20</td> <td> 1.09e-21</td> <td>    1e+41</td> <td> 0.000</td> <td>  1.1e+20</td> <td>  1.1e+20</td>\n",
       "</tr>\n",
       "</table>\n",
       "<table class=\"simpletable\">\n",
       "<tr>\n",
       "  <th>Ljung-Box (Q):</th>          <td>69.31</td> <th>  Jarque-Bera (JB):  </th> <td>0.13</td> \n",
       "</tr>\n",
       "<tr>\n",
       "  <th>Prob(Q):</th>                <td>0.00</td>  <th>  Prob(JB):          </th> <td>0.94</td> \n",
       "</tr>\n",
       "<tr>\n",
       "  <th>Heteroskedasticity (H):</th> <td>1.80</td>  <th>  Skew:              </th> <td>-0.06</td>\n",
       "</tr>\n",
       "<tr>\n",
       "  <th>Prob(H) (two-sided):</th>    <td>0.09</td>  <th>  Kurtosis:          </th> <td>3.11</td> \n",
       "</tr>\n",
       "</table><br/><br/>Warnings:<br/>[1] Covariance matrix calculated using the outer product of gradients (complex-step).<br/>[2] Covariance matrix is singular or near-singular, with condition number 7.77e+56. Standard errors may be unstable."
      ],
      "text/plain": [
       "<class 'statsmodels.iolib.summary.Summary'>\n",
       "\"\"\"\n",
       "                                 Statespace Model Results                                 \n",
       "==========================================================================================\n",
       "Dep. Variable:                                EUR   No. Observations:                  120\n",
       "Model:             SARIMAX(1, 1, 1)x(1, 0, 1, 12)   Log Likelihood               -2549.754\n",
       "Date:                            Sun, 02 Feb 2020   AIC                           5111.509\n",
       "Time:                                    22:30:10   BIC                           5127.432\n",
       "Sample:                                01-01-2009   HQIC                          5117.961\n",
       "                                     - 12-01-2018                                         \n",
       "Covariance Type:                              opg                                         \n",
       "==============================================================================\n",
       "                 coef    std err          z      P>|z|      [0.025      0.975]\n",
       "------------------------------------------------------------------------------\n",
       "intercept   1.757e+09   4.58e-11   3.84e+19      0.000    1.76e+09    1.76e+09\n",
       "ar.L1         -0.3615      0.260     -1.392      0.164      -0.870       0.148\n",
       "ma.L1         -0.2523      0.306     -0.825      0.409      -0.851       0.347\n",
       "ar.S.L12       0.6882      0.162      4.249      0.000       0.371       1.006\n",
       "ma.S.L12       0.0330      0.205      0.161      0.872      -0.369       0.435\n",
       "sigma2      1.098e+20   1.09e-21      1e+41      0.000     1.1e+20     1.1e+20\n",
       "===================================================================================\n",
       "Ljung-Box (Q):                       69.31   Jarque-Bera (JB):                 0.13\n",
       "Prob(Q):                              0.00   Prob(JB):                         0.94\n",
       "Heteroskedasticity (H):               1.80   Skew:                            -0.06\n",
       "Prob(H) (two-sided):                  0.09   Kurtosis:                         3.11\n",
       "===================================================================================\n",
       "\n",
       "Warnings:\n",
       "[1] Covariance matrix calculated using the outer product of gradients (complex-step).\n",
       "[2] Covariance matrix is singular or near-singular, with condition number 7.77e+56. Standard errors may be unstable.\n",
       "\"\"\""
      ]
     },
     "execution_count": 42,
     "metadata": {},
     "output_type": "execute_result"
    }
   ],
   "source": [
    "sarimax_model = SARIMAX(train_data['EUR'], order = (1,1,1), seasonal_order = (1,0,1,12), trend = 'c',\n",
    "                      enforce_stationarity = False)\n",
    "sarimax_result = sarimax_model.fit()\n",
    "sarimax_result.summary()"
   ]
  },
  {
   "cell_type": "markdown",
   "metadata": {},
   "source": [
    "#### 1.6.6 Making the prediction"
   ]
  },
  {
   "cell_type": "code",
   "execution_count": 43,
   "metadata": {},
   "outputs": [
    {
     "data": {
      "text/plain": [
       "2019-01-01   159356443329\n",
       "2019-02-01   154413741030\n",
       "2019-03-01   173636022298\n",
       "2019-04-01   163521548780\n",
       "2019-05-01   168922742679\n",
       "2019-06-01   178261237793\n",
       "2019-07-01   178301537443\n",
       "2019-08-01   171683592934\n",
       "2019-09-01   173891149925\n",
       "2019-10-01   188598915532\n",
       "2019-11-01   184458148905\n",
       "Freq: MS, Name: SARIMAX Predictions, dtype: float64"
      ]
     },
     "execution_count": 43,
     "metadata": {},
     "output_type": "execute_result"
    }
   ],
   "source": [
    "sarimax_pred = sarimax_result.predict(start = len(train_data), end = len(df_train)-1, \n",
    "                                  typ=\"levels\").rename(\"SARIMAX Predictions\")\n",
    "sarimax_pred"
   ]
  },
  {
   "cell_type": "markdown",
   "metadata": {},
   "source": [
    "#### 1.6.7 Checking the accuracy of prediction"
   ]
  },
  {
   "cell_type": "code",
   "execution_count": 44,
   "metadata": {},
   "outputs": [
    {
     "data": {
      "text/html": [
       "<div>\n",
       "<style scoped>\n",
       "    .dataframe tbody tr th:only-of-type {\n",
       "        vertical-align: middle;\n",
       "    }\n",
       "\n",
       "    .dataframe tbody tr th {\n",
       "        vertical-align: top;\n",
       "    }\n",
       "\n",
       "    .dataframe thead th {\n",
       "        text-align: right;\n",
       "    }\n",
       "</style>\n",
       "<table border=\"1\" class=\"dataframe\">\n",
       "  <thead>\n",
       "    <tr style=\"text-align: right;\">\n",
       "      <th></th>\n",
       "      <th>EUR_Pred</th>\n",
       "      <th>EUR_Real</th>\n",
       "    </tr>\n",
       "    <tr>\n",
       "      <th>Month</th>\n",
       "      <th></th>\n",
       "      <th></th>\n",
       "    </tr>\n",
       "  </thead>\n",
       "  <tbody>\n",
       "    <tr>\n",
       "      <th>2019-01-01</th>\n",
       "      <td>159356443329</td>\n",
       "      <td>153566052799</td>\n",
       "    </tr>\n",
       "    <tr>\n",
       "      <th>2019-02-01</th>\n",
       "      <td>154413741030</td>\n",
       "      <td>156693063016</td>\n",
       "    </tr>\n",
       "    <tr>\n",
       "      <th>2019-03-01</th>\n",
       "      <td>173636022298</td>\n",
       "      <td>173450979799</td>\n",
       "    </tr>\n",
       "    <tr>\n",
       "      <th>2019-04-01</th>\n",
       "      <td>163521548780</td>\n",
       "      <td>171536186561</td>\n",
       "    </tr>\n",
       "    <tr>\n",
       "      <th>2019-05-01</th>\n",
       "      <td>168922742679</td>\n",
       "      <td>179073500735</td>\n",
       "    </tr>\n",
       "    <tr>\n",
       "      <th>2019-06-01</th>\n",
       "      <td>178261237793</td>\n",
       "      <td>164726052862</td>\n",
       "    </tr>\n",
       "    <tr>\n",
       "      <th>2019-07-01</th>\n",
       "      <td>178301537443</td>\n",
       "      <td>181446454044</td>\n",
       "    </tr>\n",
       "    <tr>\n",
       "      <th>2019-08-01</th>\n",
       "      <td>171683592934</td>\n",
       "      <td>154170589012</td>\n",
       "    </tr>\n",
       "    <tr>\n",
       "      <th>2019-09-01</th>\n",
       "      <td>173891149925</td>\n",
       "      <td>168576407504</td>\n",
       "    </tr>\n",
       "    <tr>\n",
       "      <th>2019-10-01</th>\n",
       "      <td>188598915532</td>\n",
       "      <td>190056872447</td>\n",
       "    </tr>\n",
       "    <tr>\n",
       "      <th>2019-11-01</th>\n",
       "      <td>184458148905</td>\n",
       "      <td>172748575034</td>\n",
       "    </tr>\n",
       "  </tbody>\n",
       "</table>\n",
       "</div>"
      ],
      "text/plain": [
       "               EUR_Pred      EUR_Real\n",
       "Month                                \n",
       "2019-01-01 159356443329  153566052799\n",
       "2019-02-01 154413741030  156693063016\n",
       "2019-03-01 173636022298  173450979799\n",
       "2019-04-01 163521548780  171536186561\n",
       "2019-05-01 168922742679  179073500735\n",
       "2019-06-01 178261237793  164726052862\n",
       "2019-07-01 178301537443  181446454044\n",
       "2019-08-01 171683592934  154170589012\n",
       "2019-09-01 173891149925  168576407504\n",
       "2019-10-01 188598915532  190056872447\n",
       "2019-11-01 184458148905  172748575034"
      ]
     },
     "execution_count": 44,
     "metadata": {},
     "output_type": "execute_result"
    }
   ],
   "source": [
    "sarimax_pred_df = pd.DataFrame({'Month':sarimax_pred.index, 'EUR_Pred':sarimax_pred.values})\n",
    "\n",
    "pd.set_option('display.float_format', lambda x: '%.0f' % x)\n",
    "\n",
    "df_real = pd.read_csv('D:\\\\SciKitDatasets\\\\Main\\\\eu_export_check.csv')\n",
    "\n",
    "sarimax_pred_df['EUR_Real'] = df_real['EUR']\n",
    "\n",
    "sarimax_pred_df = sarimax_pred_df.set_index(\"Month\")\n",
    "\n",
    "sarimax_pred_df"
   ]
  },
  {
   "cell_type": "code",
   "execution_count": 45,
   "metadata": {},
   "outputs": [
    {
     "name": "stdout",
     "output_type": "stream",
     "text": [
      "EUR_Pred   1895045080648\n",
      "EUR_Real   1866044733813\n",
      "dtype: float64\n"
     ]
    }
   ],
   "source": [
    "sum_column = sarimax_pred_df.sum(axis=0)\n",
    "print (sum_column) "
   ]
  },
  {
   "cell_type": "code",
   "execution_count": 46,
   "metadata": {},
   "outputs": [
    {
     "data": {
      "text/plain": [
       "98.46967509475763"
      ]
     },
     "execution_count": 46,
     "metadata": {},
     "output_type": "execute_result"
    }
   ],
   "source": [
    "accuracy = (sum_column[1]/sum_column[0])*100\n",
    "\n",
    "accuracy"
   ]
  },
  {
   "cell_type": "markdown",
   "metadata": {},
   "source": [
    "### 1.7 Prophet model with default train data"
   ]
  },
  {
   "cell_type": "markdown",
   "metadata": {},
   "source": [
    "Info on the Prophet model https://facebook.github.io/prophet/docs/quick_start.html"
   ]
  },
  {
   "cell_type": "markdown",
   "metadata": {},
   "source": [
    "#### 1.7.1 Importing the data, and transforming it into the format appropriate for Prophet"
   ]
  },
  {
   "cell_type": "code",
   "execution_count": 47,
   "metadata": {},
   "outputs": [
    {
     "data": {
      "text/html": [
       "<div>\n",
       "<style scoped>\n",
       "    .dataframe tbody tr th:only-of-type {\n",
       "        vertical-align: middle;\n",
       "    }\n",
       "\n",
       "    .dataframe tbody tr th {\n",
       "        vertical-align: top;\n",
       "    }\n",
       "\n",
       "    .dataframe thead th {\n",
       "        text-align: right;\n",
       "    }\n",
       "</style>\n",
       "<table border=\"1\" class=\"dataframe\">\n",
       "  <thead>\n",
       "    <tr style=\"text-align: right;\">\n",
       "      <th></th>\n",
       "      <th>ds</th>\n",
       "      <th>y</th>\n",
       "    </tr>\n",
       "  </thead>\n",
       "  <tbody>\n",
       "    <tr>\n",
       "      <th>0</th>\n",
       "      <td>2002-01-01</td>\n",
       "      <td>66399826911</td>\n",
       "    </tr>\n",
       "    <tr>\n",
       "      <th>1</th>\n",
       "      <td>2002-02-01</td>\n",
       "      <td>68453193661</td>\n",
       "    </tr>\n",
       "    <tr>\n",
       "      <th>2</th>\n",
       "      <td>2002-03-01</td>\n",
       "      <td>75565444323</td>\n",
       "    </tr>\n",
       "    <tr>\n",
       "      <th>3</th>\n",
       "      <td>2002-04-01</td>\n",
       "      <td>75171579182</td>\n",
       "    </tr>\n",
       "    <tr>\n",
       "      <th>4</th>\n",
       "      <td>2002-05-01</td>\n",
       "      <td>77314780951</td>\n",
       "    </tr>\n",
       "  </tbody>\n",
       "</table>\n",
       "</div>"
      ],
      "text/plain": [
       "          ds            y\n",
       "0 2002-01-01  66399826911\n",
       "1 2002-02-01  68453193661\n",
       "2 2002-03-01  75565444323\n",
       "3 2002-04-01  75171579182\n",
       "4 2002-05-01  77314780951"
      ]
     },
     "execution_count": 47,
     "metadata": {},
     "output_type": "execute_result"
    }
   ],
   "source": [
    "df_full = pd.read_csv('D:\\\\SciKitDatasets\\\\Main\\\\eu_export.csv')\n",
    "\n",
    "df_full['Month'] = pd.to_datetime(df_full['Month'], dayfirst=True)\n",
    "\n",
    "df_full['ds'] = df_full['Month']\n",
    "df_full['y'] = df_full['EUR']\n",
    "\n",
    "df_train = df_full.drop(['Month', 'EUR', 'KG'], axis=1)\n",
    "\n",
    "df_train.head(5)"
   ]
  },
  {
   "cell_type": "markdown",
   "metadata": {},
   "source": [
    "#### 1.7.2 Preparing train and test data, and checking the test data"
   ]
  },
  {
   "cell_type": "code",
   "execution_count": 48,
   "metadata": {},
   "outputs": [
    {
     "data": {
      "text/html": [
       "<div>\n",
       "<style scoped>\n",
       "    .dataframe tbody tr th:only-of-type {\n",
       "        vertical-align: middle;\n",
       "    }\n",
       "\n",
       "    .dataframe tbody tr th {\n",
       "        vertical-align: top;\n",
       "    }\n",
       "\n",
       "    .dataframe thead th {\n",
       "        text-align: right;\n",
       "    }\n",
       "</style>\n",
       "<table border=\"1\" class=\"dataframe\">\n",
       "  <thead>\n",
       "    <tr style=\"text-align: right;\">\n",
       "      <th></th>\n",
       "      <th>ds</th>\n",
       "    </tr>\n",
       "  </thead>\n",
       "  <tbody>\n",
       "    <tr>\n",
       "      <th>204</th>\n",
       "      <td>2019-01-01</td>\n",
       "    </tr>\n",
       "    <tr>\n",
       "      <th>205</th>\n",
       "      <td>2019-02-01</td>\n",
       "    </tr>\n",
       "    <tr>\n",
       "      <th>206</th>\n",
       "      <td>2019-03-01</td>\n",
       "    </tr>\n",
       "    <tr>\n",
       "      <th>207</th>\n",
       "      <td>2019-04-01</td>\n",
       "    </tr>\n",
       "    <tr>\n",
       "      <th>208</th>\n",
       "      <td>2019-05-01</td>\n",
       "    </tr>\n",
       "    <tr>\n",
       "      <th>209</th>\n",
       "      <td>2019-06-01</td>\n",
       "    </tr>\n",
       "    <tr>\n",
       "      <th>210</th>\n",
       "      <td>2019-07-01</td>\n",
       "    </tr>\n",
       "    <tr>\n",
       "      <th>211</th>\n",
       "      <td>2019-08-01</td>\n",
       "    </tr>\n",
       "    <tr>\n",
       "      <th>212</th>\n",
       "      <td>2019-09-01</td>\n",
       "    </tr>\n",
       "    <tr>\n",
       "      <th>213</th>\n",
       "      <td>2019-10-01</td>\n",
       "    </tr>\n",
       "    <tr>\n",
       "      <th>214</th>\n",
       "      <td>2019-11-01</td>\n",
       "    </tr>\n",
       "  </tbody>\n",
       "</table>\n",
       "</div>"
      ],
      "text/plain": [
       "            ds\n",
       "204 2019-01-01\n",
       "205 2019-02-01\n",
       "206 2019-03-01\n",
       "207 2019-04-01\n",
       "208 2019-05-01\n",
       "209 2019-06-01\n",
       "210 2019-07-01\n",
       "211 2019-08-01\n",
       "212 2019-09-01\n",
       "213 2019-10-01\n",
       "214 2019-11-01"
      ]
     },
     "execution_count": 48,
     "metadata": {},
     "output_type": "execute_result"
    }
   ],
   "source": [
    "train_data = df_train[:len(df_train)-11]\n",
    "test_data = df_train[len(df_train)-11:]\n",
    "\n",
    "del test_data['y']\n",
    "\n",
    "test_data"
   ]
  },
  {
   "cell_type": "markdown",
   "metadata": {},
   "source": [
    "#### 1.7.3 Training the Prophet model"
   ]
  },
  {
   "cell_type": "code",
   "execution_count": 49,
   "metadata": {},
   "outputs": [
    {
     "name": "stderr",
     "output_type": "stream",
     "text": [
      "INFO:fbprophet.forecaster:Disabling weekly seasonality. Run prophet with weekly_seasonality=True to override this.\n",
      "INFO:fbprophet.forecaster:Disabling daily seasonality. Run prophet with daily_seasonality=True to override this.\n"
     ]
    },
    {
     "data": {
      "text/plain": [
       "<fbprophet.forecaster.Prophet at 0x249f0f75c88>"
      ]
     },
     "execution_count": 49,
     "metadata": {},
     "output_type": "execute_result"
    }
   ],
   "source": [
    "model = Prophet(yearly_seasonality=True)\n",
    "model.fit(train_data)"
   ]
  },
  {
   "cell_type": "markdown",
   "metadata": {},
   "source": [
    "#### 1.7.4 Making the prediction, and checking the accuracy"
   ]
  },
  {
   "cell_type": "code",
   "execution_count": 50,
   "metadata": {},
   "outputs": [
    {
     "data": {
      "text/html": [
       "<div>\n",
       "<style scoped>\n",
       "    .dataframe tbody tr th:only-of-type {\n",
       "        vertical-align: middle;\n",
       "    }\n",
       "\n",
       "    .dataframe tbody tr th {\n",
       "        vertical-align: top;\n",
       "    }\n",
       "\n",
       "    .dataframe thead th {\n",
       "        text-align: right;\n",
       "    }\n",
       "</style>\n",
       "<table border=\"1\" class=\"dataframe\">\n",
       "  <thead>\n",
       "    <tr style=\"text-align: right;\">\n",
       "      <th></th>\n",
       "      <th>EUR_Pred</th>\n",
       "      <th>EUR_Real</th>\n",
       "    </tr>\n",
       "    <tr>\n",
       "      <th>Month</th>\n",
       "      <th></th>\n",
       "      <th></th>\n",
       "    </tr>\n",
       "  </thead>\n",
       "  <tbody>\n",
       "    <tr>\n",
       "      <th>01-01-19</th>\n",
       "      <td>150789101029</td>\n",
       "      <td>153566052799</td>\n",
       "    </tr>\n",
       "    <tr>\n",
       "      <th>01-02-19</th>\n",
       "      <td>157670306208</td>\n",
       "      <td>156693063016</td>\n",
       "    </tr>\n",
       "    <tr>\n",
       "      <th>01-03-19</th>\n",
       "      <td>170527606332</td>\n",
       "      <td>173450979799</td>\n",
       "    </tr>\n",
       "    <tr>\n",
       "      <th>01-04-19</th>\n",
       "      <td>162847994026</td>\n",
       "      <td>171536186561</td>\n",
       "    </tr>\n",
       "    <tr>\n",
       "      <th>01-05-19</th>\n",
       "      <td>165382634671</td>\n",
       "      <td>179073500735</td>\n",
       "    </tr>\n",
       "    <tr>\n",
       "      <th>01-06-19</th>\n",
       "      <td>168625334787</td>\n",
       "      <td>164726052862</td>\n",
       "    </tr>\n",
       "    <tr>\n",
       "      <th>01-07-19</th>\n",
       "      <td>172036099836</td>\n",
       "      <td>181446454044</td>\n",
       "    </tr>\n",
       "    <tr>\n",
       "      <th>01-08-19</th>\n",
       "      <td>157188206100</td>\n",
       "      <td>154170589012</td>\n",
       "    </tr>\n",
       "    <tr>\n",
       "      <th>01-09-19</th>\n",
       "      <td>167485748753</td>\n",
       "      <td>168576407504</td>\n",
       "    </tr>\n",
       "    <tr>\n",
       "      <th>01-10-19</th>\n",
       "      <td>174052043704</td>\n",
       "      <td>190056872447</td>\n",
       "    </tr>\n",
       "    <tr>\n",
       "      <th>01-11-19</th>\n",
       "      <td>169857556457</td>\n",
       "      <td>172748575034</td>\n",
       "    </tr>\n",
       "  </tbody>\n",
       "</table>\n",
       "</div>"
      ],
      "text/plain": [
       "             EUR_Pred      EUR_Real\n",
       "Month                              \n",
       "01-01-19 150789101029  153566052799\n",
       "01-02-19 157670306208  156693063016\n",
       "01-03-19 170527606332  173450979799\n",
       "01-04-19 162847994026  171536186561\n",
       "01-05-19 165382634671  179073500735\n",
       "01-06-19 168625334787  164726052862\n",
       "01-07-19 172036099836  181446454044\n",
       "01-08-19 157188206100  154170589012\n",
       "01-09-19 167485748753  168576407504\n",
       "01-10-19 174052043704  190056872447\n",
       "01-11-19 169857556457  172748575034"
      ]
     },
     "execution_count": 50,
     "metadata": {},
     "output_type": "execute_result"
    }
   ],
   "source": [
    "forecast = model.predict(test_data)\n",
    "\n",
    "df_1 = forecast[['yhat']]\n",
    "\n",
    "df_real = pd.read_csv('D:\\\\SciKitDatasets\\\\Main\\\\eu_export_check.csv')\n",
    "\n",
    "df_real = df_real.drop(['KG'], axis=1)\n",
    "\n",
    "df_real['EUR_Pred'] = df_1['yhat']\n",
    "\n",
    "df_real['EUR_Real'] = df_real['EUR']\n",
    "\n",
    "df_real = df_real.drop(['EUR'], axis=1)\n",
    "\n",
    "df_real = df_real.set_index(\"Month\")\n",
    "\n",
    "df_real"
   ]
  },
  {
   "cell_type": "code",
   "execution_count": 51,
   "metadata": {},
   "outputs": [
    {
     "name": "stdout",
     "output_type": "stream",
     "text": [
      "EUR_Pred   1816462631902\n",
      "EUR_Real   1866044733813\n",
      "dtype: float64\n"
     ]
    }
   ],
   "source": [
    "sum_column = df_real.sum(axis=0)\n",
    "print (sum_column) "
   ]
  },
  {
   "cell_type": "code",
   "execution_count": 52,
   "metadata": {},
   "outputs": [
    {
     "data": {
      "text/plain": [
       "97.34293069119668"
      ]
     },
     "execution_count": 52,
     "metadata": {},
     "output_type": "execute_result"
    }
   ],
   "source": [
    "accuracy = (sum_column[0]/sum_column[1])*100\n",
    "\n",
    "accuracy"
   ]
  },
  {
   "cell_type": "markdown",
   "metadata": {},
   "source": [
    "### 1.8 Prophet model with post-crisis train data"
   ]
  },
  {
   "cell_type": "markdown",
   "metadata": {},
   "source": [
    "#### 1.8.1 Importing the data, and transforming it into the format appropriate for Prophet"
   ]
  },
  {
   "cell_type": "code",
   "execution_count": 53,
   "metadata": {},
   "outputs": [
    {
     "data": {
      "text/html": [
       "<div>\n",
       "<style scoped>\n",
       "    .dataframe tbody tr th:only-of-type {\n",
       "        vertical-align: middle;\n",
       "    }\n",
       "\n",
       "    .dataframe tbody tr th {\n",
       "        vertical-align: top;\n",
       "    }\n",
       "\n",
       "    .dataframe thead th {\n",
       "        text-align: right;\n",
       "    }\n",
       "</style>\n",
       "<table border=\"1\" class=\"dataframe\">\n",
       "  <thead>\n",
       "    <tr style=\"text-align: right;\">\n",
       "      <th></th>\n",
       "      <th>ds</th>\n",
       "      <th>y</th>\n",
       "    </tr>\n",
       "  </thead>\n",
       "  <tbody>\n",
       "    <tr>\n",
       "      <th>0</th>\n",
       "      <td>2009-01-01</td>\n",
       "      <td>75648828964</td>\n",
       "    </tr>\n",
       "    <tr>\n",
       "      <th>1</th>\n",
       "      <td>2009-02-01</td>\n",
       "      <td>85241108352</td>\n",
       "    </tr>\n",
       "    <tr>\n",
       "      <th>2</th>\n",
       "      <td>2009-03-01</td>\n",
       "      <td>93561254498</td>\n",
       "    </tr>\n",
       "    <tr>\n",
       "      <th>3</th>\n",
       "      <td>2009-04-01</td>\n",
       "      <td>88663956646</td>\n",
       "    </tr>\n",
       "    <tr>\n",
       "      <th>4</th>\n",
       "      <td>2009-05-01</td>\n",
       "      <td>85811123238</td>\n",
       "    </tr>\n",
       "  </tbody>\n",
       "</table>\n",
       "</div>"
      ],
      "text/plain": [
       "          ds            y\n",
       "0 2009-01-01  75648828964\n",
       "1 2009-02-01  85241108352\n",
       "2 2009-03-01  93561254498\n",
       "3 2009-04-01  88663956646\n",
       "4 2009-05-01  85811123238"
      ]
     },
     "execution_count": 53,
     "metadata": {},
     "output_type": "execute_result"
    }
   ],
   "source": [
    "df_full = pd.read_csv('D:\\\\SciKitDatasets\\\\Main\\\\eu_export_crisis.csv')\n",
    "\n",
    "df_full['Month'] = pd.to_datetime(df_full['Month'], dayfirst=True)\n",
    "\n",
    "df_full['ds'] = df_full['Month']\n",
    "df_full['y'] = df_full['EUR']\n",
    "\n",
    "df_train = df_full.drop(['Month', 'EUR', 'KG'], axis=1)\n",
    "\n",
    "df_train.head(5)"
   ]
  },
  {
   "cell_type": "markdown",
   "metadata": {},
   "source": [
    "#### 1.8.2 Preparing train and test data, and checking the test data"
   ]
  },
  {
   "cell_type": "code",
   "execution_count": 54,
   "metadata": {},
   "outputs": [
    {
     "data": {
      "text/html": [
       "<div>\n",
       "<style scoped>\n",
       "    .dataframe tbody tr th:only-of-type {\n",
       "        vertical-align: middle;\n",
       "    }\n",
       "\n",
       "    .dataframe tbody tr th {\n",
       "        vertical-align: top;\n",
       "    }\n",
       "\n",
       "    .dataframe thead th {\n",
       "        text-align: right;\n",
       "    }\n",
       "</style>\n",
       "<table border=\"1\" class=\"dataframe\">\n",
       "  <thead>\n",
       "    <tr style=\"text-align: right;\">\n",
       "      <th></th>\n",
       "      <th>ds</th>\n",
       "    </tr>\n",
       "  </thead>\n",
       "  <tbody>\n",
       "    <tr>\n",
       "      <th>120</th>\n",
       "      <td>2019-01-01</td>\n",
       "    </tr>\n",
       "    <tr>\n",
       "      <th>121</th>\n",
       "      <td>2019-02-01</td>\n",
       "    </tr>\n",
       "    <tr>\n",
       "      <th>122</th>\n",
       "      <td>2019-03-01</td>\n",
       "    </tr>\n",
       "    <tr>\n",
       "      <th>123</th>\n",
       "      <td>2019-04-01</td>\n",
       "    </tr>\n",
       "    <tr>\n",
       "      <th>124</th>\n",
       "      <td>2019-05-01</td>\n",
       "    </tr>\n",
       "    <tr>\n",
       "      <th>125</th>\n",
       "      <td>2019-06-01</td>\n",
       "    </tr>\n",
       "    <tr>\n",
       "      <th>126</th>\n",
       "      <td>2019-07-01</td>\n",
       "    </tr>\n",
       "    <tr>\n",
       "      <th>127</th>\n",
       "      <td>2019-08-01</td>\n",
       "    </tr>\n",
       "    <tr>\n",
       "      <th>128</th>\n",
       "      <td>2019-09-01</td>\n",
       "    </tr>\n",
       "    <tr>\n",
       "      <th>129</th>\n",
       "      <td>2019-10-01</td>\n",
       "    </tr>\n",
       "    <tr>\n",
       "      <th>130</th>\n",
       "      <td>2019-11-01</td>\n",
       "    </tr>\n",
       "  </tbody>\n",
       "</table>\n",
       "</div>"
      ],
      "text/plain": [
       "            ds\n",
       "120 2019-01-01\n",
       "121 2019-02-01\n",
       "122 2019-03-01\n",
       "123 2019-04-01\n",
       "124 2019-05-01\n",
       "125 2019-06-01\n",
       "126 2019-07-01\n",
       "127 2019-08-01\n",
       "128 2019-09-01\n",
       "129 2019-10-01\n",
       "130 2019-11-01"
      ]
     },
     "execution_count": 54,
     "metadata": {},
     "output_type": "execute_result"
    }
   ],
   "source": [
    "train_data = df_train[:len(df_train)-11]\n",
    "test_data = df_train[len(df_train)-11:]\n",
    "\n",
    "del test_data['y']\n",
    "\n",
    "test_data"
   ]
  },
  {
   "cell_type": "markdown",
   "metadata": {},
   "source": [
    "#### 1.8.3 Training the Prophet model"
   ]
  },
  {
   "cell_type": "code",
   "execution_count": 55,
   "metadata": {},
   "outputs": [
    {
     "name": "stderr",
     "output_type": "stream",
     "text": [
      "INFO:fbprophet.forecaster:Disabling weekly seasonality. Run prophet with weekly_seasonality=True to override this.\n",
      "INFO:fbprophet.forecaster:Disabling daily seasonality. Run prophet with daily_seasonality=True to override this.\n"
     ]
    },
    {
     "data": {
      "text/plain": [
       "<fbprophet.forecaster.Prophet at 0x249f0f704e0>"
      ]
     },
     "execution_count": 55,
     "metadata": {},
     "output_type": "execute_result"
    }
   ],
   "source": [
    "model = Prophet(yearly_seasonality=True)\n",
    "model.fit(train_data)"
   ]
  },
  {
   "cell_type": "markdown",
   "metadata": {},
   "source": [
    "#### 1.8.4 Making the prediction, and checking the accuracy"
   ]
  },
  {
   "cell_type": "code",
   "execution_count": 56,
   "metadata": {},
   "outputs": [
    {
     "data": {
      "text/html": [
       "<div>\n",
       "<style scoped>\n",
       "    .dataframe tbody tr th:only-of-type {\n",
       "        vertical-align: middle;\n",
       "    }\n",
       "\n",
       "    .dataframe tbody tr th {\n",
       "        vertical-align: top;\n",
       "    }\n",
       "\n",
       "    .dataframe thead th {\n",
       "        text-align: right;\n",
       "    }\n",
       "</style>\n",
       "<table border=\"1\" class=\"dataframe\">\n",
       "  <thead>\n",
       "    <tr style=\"text-align: right;\">\n",
       "      <th></th>\n",
       "      <th>EUR_Pred</th>\n",
       "      <th>EUR_Real</th>\n",
       "    </tr>\n",
       "    <tr>\n",
       "      <th>Month</th>\n",
       "      <th></th>\n",
       "      <th></th>\n",
       "    </tr>\n",
       "  </thead>\n",
       "  <tbody>\n",
       "    <tr>\n",
       "      <th>01-01-19</th>\n",
       "      <td>149257507522</td>\n",
       "      <td>153566052799</td>\n",
       "    </tr>\n",
       "    <tr>\n",
       "      <th>01-02-19</th>\n",
       "      <td>159080978737</td>\n",
       "      <td>156693063016</td>\n",
       "    </tr>\n",
       "    <tr>\n",
       "      <th>01-03-19</th>\n",
       "      <td>178052352954</td>\n",
       "      <td>173450979799</td>\n",
       "    </tr>\n",
       "    <tr>\n",
       "      <th>01-04-19</th>\n",
       "      <td>166309759761</td>\n",
       "      <td>171536186561</td>\n",
       "    </tr>\n",
       "    <tr>\n",
       "      <th>01-05-19</th>\n",
       "      <td>166490042747</td>\n",
       "      <td>179073500735</td>\n",
       "    </tr>\n",
       "    <tr>\n",
       "      <th>01-06-19</th>\n",
       "      <td>171527597759</td>\n",
       "      <td>164726052862</td>\n",
       "    </tr>\n",
       "    <tr>\n",
       "      <th>01-07-19</th>\n",
       "      <td>176264674450</td>\n",
       "      <td>181446454044</td>\n",
       "    </tr>\n",
       "    <tr>\n",
       "      <th>01-08-19</th>\n",
       "      <td>155259212253</td>\n",
       "      <td>154170589012</td>\n",
       "    </tr>\n",
       "    <tr>\n",
       "      <th>01-09-19</th>\n",
       "      <td>171155346507</td>\n",
       "      <td>168576407504</td>\n",
       "    </tr>\n",
       "    <tr>\n",
       "      <th>01-10-19</th>\n",
       "      <td>177135243053</td>\n",
       "      <td>190056872447</td>\n",
       "    </tr>\n",
       "    <tr>\n",
       "      <th>01-11-19</th>\n",
       "      <td>172946784363</td>\n",
       "      <td>172748575034</td>\n",
       "    </tr>\n",
       "  </tbody>\n",
       "</table>\n",
       "</div>"
      ],
      "text/plain": [
       "             EUR_Pred      EUR_Real\n",
       "Month                              \n",
       "01-01-19 149257507522  153566052799\n",
       "01-02-19 159080978737  156693063016\n",
       "01-03-19 178052352954  173450979799\n",
       "01-04-19 166309759761  171536186561\n",
       "01-05-19 166490042747  179073500735\n",
       "01-06-19 171527597759  164726052862\n",
       "01-07-19 176264674450  181446454044\n",
       "01-08-19 155259212253  154170589012\n",
       "01-09-19 171155346507  168576407504\n",
       "01-10-19 177135243053  190056872447\n",
       "01-11-19 172946784363  172748575034"
      ]
     },
     "execution_count": 56,
     "metadata": {},
     "output_type": "execute_result"
    }
   ],
   "source": [
    "forecast = model.predict(test_data)\n",
    "\n",
    "df_1 = forecast[['yhat']]\n",
    "\n",
    "df_real = pd.read_csv('D:\\\\SciKitDatasets\\\\Main\\\\eu_export_check.csv')\n",
    "\n",
    "df_real = df_real.drop(['KG'], axis=1)\n",
    "\n",
    "df_real['EUR_Pred'] = df_1['yhat']\n",
    "\n",
    "df_real['EUR_Real'] = df_real['EUR']\n",
    "\n",
    "df_real = df_real.drop(['EUR'], axis=1)\n",
    "\n",
    "df_real = df_real.set_index(\"Month\")\n",
    "\n",
    "df_real"
   ]
  },
  {
   "cell_type": "code",
   "execution_count": 57,
   "metadata": {},
   "outputs": [
    {
     "name": "stdout",
     "output_type": "stream",
     "text": [
      "EUR_Pred   1843479500106\n",
      "EUR_Real   1866044733813\n",
      "dtype: float64\n"
     ]
    }
   ],
   "source": [
    "sum_column = df_real.sum(axis=0)\n",
    "print (sum_column) "
   ]
  },
  {
   "cell_type": "code",
   "execution_count": 58,
   "metadata": {},
   "outputs": [
    {
     "data": {
      "text/plain": [
       "98.79074529681937"
      ]
     },
     "execution_count": 58,
     "metadata": {},
     "output_type": "execute_result"
    }
   ],
   "source": [
    "accuracy = (sum_column[0]/sum_column[1])*100\n",
    "\n",
    "accuracy"
   ]
  },
  {
   "cell_type": "markdown",
   "metadata": {},
   "source": [
    "## 2. Summary and conclusions"
   ]
  },
  {
   "cell_type": "markdown",
   "metadata": {},
   "source": [
    "### 2.1 Building the table with final results"
   ]
  },
  {
   "cell_type": "code",
   "execution_count": 59,
   "metadata": {},
   "outputs": [
    {
     "data": {
      "text/html": [
       "<div>\n",
       "<style scoped>\n",
       "    .dataframe tbody tr th:only-of-type {\n",
       "        vertical-align: middle;\n",
       "    }\n",
       "\n",
       "    .dataframe tbody tr th {\n",
       "        vertical-align: top;\n",
       "    }\n",
       "\n",
       "    .dataframe thead th {\n",
       "        text-align: right;\n",
       "    }\n",
       "</style>\n",
       "<table border=\"1\" class=\"dataframe\">\n",
       "  <thead>\n",
       "    <tr style=\"text-align: right;\">\n",
       "      <th></th>\n",
       "      <th>Model</th>\n",
       "      <th>Accuracy</th>\n",
       "    </tr>\n",
       "  </thead>\n",
       "  <tbody>\n",
       "    <tr>\n",
       "      <th>1</th>\n",
       "      <td>1.2 Adjusted SARIMAX default data</td>\n",
       "      <td>99.98</td>\n",
       "    </tr>\n",
       "    <tr>\n",
       "      <th>7</th>\n",
       "      <td>1.8 Prophet post-crisis data</td>\n",
       "      <td>98.79</td>\n",
       "    </tr>\n",
       "    <tr>\n",
       "      <th>5</th>\n",
       "      <td>1.6 Adjusted SARIMAX post-crisis data</td>\n",
       "      <td>98.46</td>\n",
       "    </tr>\n",
       "    <tr>\n",
       "      <th>3</th>\n",
       "      <td>1.4 Adjusted VAR default data</td>\n",
       "      <td>97.63</td>\n",
       "    </tr>\n",
       "    <tr>\n",
       "      <th>6</th>\n",
       "      <td>1.7 Prophet default data</td>\n",
       "      <td>97.34</td>\n",
       "    </tr>\n",
       "    <tr>\n",
       "      <th>4</th>\n",
       "      <td>1.5 Adjusted VAR extended data</td>\n",
       "      <td>91.00</td>\n",
       "    </tr>\n",
       "    <tr>\n",
       "      <th>0</th>\n",
       "      <td>1.1 Default SARIMAX default data</td>\n",
       "      <td>88.54</td>\n",
       "    </tr>\n",
       "    <tr>\n",
       "      <th>2</th>\n",
       "      <td>1.3 Default VAR default data</td>\n",
       "      <td>85.50</td>\n",
       "    </tr>\n",
       "  </tbody>\n",
       "</table>\n",
       "</div>"
      ],
      "text/plain": [
       "                                   Model  Accuracy\n",
       "1      1.2 Adjusted SARIMAX default data     99.98\n",
       "7           1.8 Prophet post-crisis data     98.79\n",
       "5  1.6 Adjusted SARIMAX post-crisis data     98.46\n",
       "3          1.4 Adjusted VAR default data     97.63\n",
       "6               1.7 Prophet default data     97.34\n",
       "4         1.5 Adjusted VAR extended data     91.00\n",
       "0       1.1 Default SARIMAX default data     88.54\n",
       "2           1.3 Default VAR default data     85.50"
      ]
     },
     "execution_count": 59,
     "metadata": {},
     "output_type": "execute_result"
    }
   ],
   "source": [
    "pd.set_option('display.float_format', lambda x: '%.2f' % x)\n",
    "\n",
    "data = [['1.1 Default SARIMAX default data', 88.54], ['1.2 Adjusted SARIMAX default data', 99.98], \n",
    "        ['1.3 Default VAR default data', 85.5], ['1.4 Adjusted VAR default data', 97.63], \n",
    "        ['1.5 Adjusted VAR extended data', 91], ['1.6 Adjusted SARIMAX post-crisis data', 98.46], \n",
    "        ['1.7 Prophet default data', 97.34], ['1.8 Prophet post-crisis data', 98.79]] \n",
    "  \n",
    "df_results = pd.DataFrame(data, columns = ['Model', 'Accuracy']) \n",
    "  \n",
    "df_results_sorted = df_results.sort_values(by='Accuracy', ascending=False)   \n",
    "\n",
    "df_results_sorted"
   ]
  },
  {
   "cell_type": "markdown",
   "metadata": {},
   "source": [
    "The adjusted SARIMAX model with default data turned out to be the most accurate one. However, in order to get decent performance from SARIMAX and VAR models, it is necessary to do some fine-tuning and select appropriate parameters. On the other hand, it is worth paying attention to the fact that in both cases the Prophet model demonstrates fairly decent performence 'out of the box', without adjustments. "
   ]
  }
 ],
 "metadata": {
  "kernelspec": {
   "display_name": "Python 3",
   "language": "python",
   "name": "python3"
  },
  "language_info": {
   "codemirror_mode": {
    "name": "ipython",
    "version": 3
   },
   "file_extension": ".py",
   "mimetype": "text/x-python",
   "name": "python",
   "nbconvert_exporter": "python",
   "pygments_lexer": "ipython3",
   "version": "3.6.3"
  }
 },
 "nbformat": 4,
 "nbformat_minor": 2
}
